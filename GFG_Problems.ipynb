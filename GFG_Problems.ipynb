{
 "cells": [
  {
   "attachments": {},
   "cell_type": "markdown",
   "metadata": {},
   "source": [
    "Next Happy Number"
   ]
  },
  {
   "cell_type": "code",
   "execution_count": null,
   "metadata": {},
   "outputs": [],
   "source": [
    "class Solution:\n",
    "    \n",
    "    def isHappy(self,N):\n",
    "        if N==1 or N==7:\n",
    "            return True\n",
    "        \n",
    "        sum = N\n",
    "        while sum>9:\n",
    "            sum = 0\n",
    "            while N>0:\n",
    "                sum+= (N%10)**2\n",
    "                N//=10\n",
    "            \n",
    "            if sum==1:\n",
    "                return True\n",
    "                \n",
    "            N = sum\n",
    "        \n",
    "        if sum == 7:\n",
    "            return True\n",
    "        return False\n",
    "        \n",
    "            \n",
    "        \n",
    "    def nextHappy (self, N):\n",
    "        # code here\n",
    "        N+=1\n",
    "        while True:\n",
    "            if self.isHappy(N):\n",
    "                return N\n",
    "            N+=1"
   ]
  },
  {
   "attachments": {},
   "cell_type": "markdown",
   "metadata": {},
   "source": [
    "Union Of two LL"
   ]
  },
  {
   "cell_type": "code",
   "execution_count": null,
   "metadata": {},
   "outputs": [],
   "source": [
    "class Solution:\n",
    "    def union(self, head1,head2):\n",
    "        # code here\n",
    "        # return head of resultant linkedlist\n",
    "        lis = {}\n",
    "        curr1 = head1\n",
    "        curr2 = head2\n",
    "        \n",
    "        while curr1 :\n",
    "            if lis.get(curr1.data) is None:\n",
    "                lis[curr1.data] = 1\n",
    "            curr1 = curr1.next\n",
    "        \n",
    "        while curr2 :\n",
    "            if lis.get(curr2.data) is None:\n",
    "                lis[curr2.data] = 1\n",
    "            curr2 = curr2.next\n",
    "            \n",
    "        myKeys = list(lis.keys())\n",
    "        myKeys.sort(reverse=True)\n",
    "        \n",
    "        ll3 = linkedList()\n",
    "        for i in range(len(myKeys)):\n",
    "            ll3.insert(myKeys.pop())\n",
    "            \n",
    "        return ll3.head"
   ]
  }
 ],
 "metadata": {
  "language_info": {
   "name": "python"
  },
  "orig_nbformat": 4
 },
 "nbformat": 4,
 "nbformat_minor": 2
}
