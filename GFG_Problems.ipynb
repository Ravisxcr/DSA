{
 "cells": [
  {
   "attachments": {},
   "cell_type": "markdown",
   "metadata": {},
   "source": [
    "Next Happy Number"
   ]
  },
  {
   "cell_type": "code",
   "execution_count": null,
   "metadata": {},
   "outputs": [],
   "source": [
    "class Solution:\n",
    "    \n",
    "    def isHappy(self,N):\n",
    "        if N==1 or N==7:\n",
    "            return True\n",
    "        \n",
    "        sum = N\n",
    "        while sum>9:\n",
    "            sum = 0\n",
    "            while N>0:\n",
    "                sum+= (N%10)**2\n",
    "                N//=10\n",
    "            \n",
    "            if sum==1:\n",
    "                return True\n",
    "                \n",
    "            N = sum\n",
    "        \n",
    "        if sum == 7:\n",
    "            return True\n",
    "        return False\n",
    "        \n",
    "            \n",
    "        \n",
    "    def nextHappy (self, N):\n",
    "        # code here\n",
    "        N+=1\n",
    "        while True:\n",
    "            if self.isHappy(N):\n",
    "                return N\n",
    "            N+=1"
   ]
  },
  {
   "attachments": {},
   "cell_type": "markdown",
   "metadata": {},
   "source": [
    "Union Of two LL"
   ]
  }
 ],
 "metadata": {
  "language_info": {
   "name": "python"
  },
  "orig_nbformat": 4
 },
 "nbformat": 4,
 "nbformat_minor": 2
}
