{
 "cells": [
  {
   "cell_type": "markdown",
   "metadata": {},
   "source": [
    "#### Creating Node"
   ]
  },
  {
   "cell_type": "markdown",
   "metadata": {},
   "source": [
    "This Node has built in function to manipulate the node but it is not used in the problem solving\n"
   ]
  },
  {
   "cell_type": "code",
   "execution_count": 3,
   "metadata": {},
   "outputs": [],
   "source": [
    "# Node of singly linked list\n",
    "class Node:\n",
    "    # init function\n",
    "    def __init__(self) -> None:\n",
    "        self.data = None\n",
    "        self.next = None\n",
    "\n",
    "    def setData(self, data):\n",
    "        self.data = data\n",
    "\n",
    "    def getData(self):\n",
    "        return self.data\n",
    "\n",
    "    def setNext(self, next):\n",
    "        self.next = next\n",
    "\n",
    "    def hasNext(self):\n",
    "        return self.next != None"
   ]
  },
  {
   "cell_type": "markdown",
   "metadata": {},
   "source": [
    "#### Conting the Node \n",
    "\n",
    "The variable is increased by the value 1 until and unless the current node is poinng to the **None**"
   ]
  },
  {
   "cell_type": "code",
   "execution_count": 4,
   "metadata": {},
   "outputs": [],
   "source": [
    "# Counting the number of nodes\n",
    "\n",
    "def listLength(self):\n",
    "    current = self.head\n",
    "    count = 0\n",
    "\n",
    "    while current != None:\n",
    "        count+=1\n",
    "        current = current.getNext()\n",
    "\n",
    "    return count"
   ]
  },
  {
   "cell_type": "markdown",
   "metadata": {},
   "source": [
    "#### Inserting at the beginnig \n",
    "\n",
    "- A node is created and pointed to the head\n",
    "- head is pointed to the current Node\n",
    "- (Or) newly created node is head"
   ]
  },
  {
   "cell_type": "code",
   "execution_count": 5,
   "metadata": {},
   "outputs": [],
   "source": [
    "# Inserting at the beggining\n",
    "\n",
    "def insertBegin(self, data):\n",
    "    newNode = Node()\n",
    "    newNode.setData(data)\n",
    "\n",
    "    if self.length == 0:\n",
    "        self.head = newNode\n",
    "    else:\n",
    "        newNode.setNext(self.head)\n",
    "        self.head = newNode\n",
    "    self.length += 1"
   ]
  },
  {
   "cell_type": "code",
   "execution_count": null,
   "metadata": {},
   "outputs": [],
   "source": []
  },
  {
   "cell_type": "markdown",
   "metadata": {},
   "source": [
    "A node class of the linked list with no built in function\n"
   ]
  },
  {
   "cell_type": "code",
   "execution_count": 6,
   "metadata": {},
   "outputs": [],
   "source": [
    "class Node:\n",
    "    def __init__(self,data) -> None:\n",
    "        self.data = data\n",
    "        self.next = None"
   ]
  },
  {
   "cell_type": "markdown",
   "metadata": {},
   "source": [
    "#### Input in Linked List\n",
    "\n",
    "- head and tail is created\n",
    "- input is stored in list\n",
    "- element stored in node from list"
   ]
  },
  {
   "cell_type": "code",
   "execution_count": 7,
   "metadata": {},
   "outputs": [],
   "source": [
    "def ll_in():\n",
    "    head = None\n",
    "    tail = None\n",
    "    \n",
    "    m = input().split(' ')\n",
    "    a = [int(ele) for ele in m]\n",
    "\n",
    "    for i in a:\n",
    "        new_node = Node(i)\n",
    "        if head == None:\n",
    "            head = new_node\n",
    "\n",
    "        else:\n",
    "            curr = head\n",
    "            while(curr.next != None):\n",
    "                curr = curr.next\n",
    "\n",
    "            curr.next = new_node\n",
    "\n",
    "    return head\n",
    "\n"
   ]
  },
  {
   "cell_type": "code",
   "execution_count": 8,
   "metadata": {},
   "outputs": [],
   "source": [
    "def ll_pr(head):\n",
    "    if head == None:\n",
    "        return\n",
    "    \n",
    "    else: \n",
    "        curr = head\n",
    "        while(curr.next != None):\n",
    "            print(curr.data)\n",
    "            curr = curr.next\n"
   ]
  },
  {
   "cell_type": "code",
   "execution_count": 9,
   "metadata": {},
   "outputs": [],
   "source": [
    "def ll_mid(head):\n",
    "    if head == None:\n",
    "        return\n",
    "    \n",
    "    else: \n",
    "        curr1 = head\n",
    "        curr2 = head\n",
    "        count = 0\n",
    "        while(curr1.next != None and curr2.next.next != None):\n",
    "            curr1 = curr1.next\n",
    "            curr2= curr2.next.next\n",
    "            count+=1\n",
    "        \n",
    "        print(count)"
   ]
  },
  {
   "cell_type": "code",
   "execution_count": 10,
   "metadata": {},
   "outputs": [
    {
     "name": "stdout",
     "output_type": "stream",
     "text": [
      "4\n",
      "5\n",
      "8\n",
      "9\n",
      "6\n"
     ]
    }
   ],
   "source": [
    "head1 = ll_in()\n",
    "ll_pr(head1)"
   ]
  },
  {
   "cell_type": "code",
   "execution_count": 11,
   "metadata": {},
   "outputs": [
    {
     "name": "stdout",
     "output_type": "stream",
     "text": [
      "2\n"
     ]
    }
   ],
   "source": [
    "ll_mid(head1)"
   ]
  },
  {
   "cell_type": "markdown",
   "metadata": {},
   "source": [
    "ith position element"
   ]
  },
  {
   "cell_type": "code",
   "execution_count": 12,
   "metadata": {},
   "outputs": [],
   "source": [
    "def ll_ipos(head, index):\n",
    "    if head == None:\n",
    "        return\n",
    "    \n",
    "    else: \n",
    "        curr1 = head\n",
    "        count = 0\n",
    "        while(curr1.next != None and index > count):\n",
    "            curr1 = curr1.next\n",
    "            count+=1\n",
    "        \n",
    "        if curr1.next != None:\n",
    "            print(curr1.data)\n",
    "        else:\n",
    "            print(\"Not present\")"
   ]
  },
  {
   "cell_type": "code",
   "execution_count": 13,
   "metadata": {},
   "outputs": [
    {
     "name": "stdout",
     "output_type": "stream",
     "text": [
      "Not present\n"
     ]
    }
   ],
   "source": [
    "ll_ipos(head1,8)"
   ]
  },
  {
   "cell_type": "markdown",
   "metadata": {},
   "source": [
    "insert at ith position"
   ]
  },
  {
   "cell_type": "code",
   "execution_count": 14,
   "metadata": {},
   "outputs": [],
   "source": [
    "def ll_ipos(head, index, data):\n",
    "    if head == None:\n",
    "        return\n",
    "    \n",
    "    else: \n",
    "        curr1 = head\n",
    "        if curr1.next != None:\n",
    "            curr2 = head.next\n",
    "        count = 1\n",
    "        while(curr2.next != None and index > count):\n",
    "            curr2 = curr2.next\n",
    "            curr1 = curr1.next\n",
    "            count+=1\n",
    "        \n",
    "        new_node = Node(data)\n",
    "        curr1.next= new_node\n",
    "        new_node.next = curr2"
   ]
  },
  {
   "cell_type": "code",
   "execution_count": 15,
   "metadata": {},
   "outputs": [
    {
     "name": "stdout",
     "output_type": "stream",
     "text": [
      "4\n",
      "5\n",
      "8\n",
      "45\n",
      "9\n",
      "6\n"
     ]
    }
   ],
   "source": [
    "ll_ipos(head1, 3,45)\n",
    "ll_pr(head1)"
   ]
  },
  {
   "cell_type": "code",
   "execution_count": 16,
   "metadata": {},
   "outputs": [
    {
     "name": "stdout",
     "output_type": "stream",
     "text": [
      "4\n",
      "5\n",
      "8\n",
      "45\n",
      "9\n",
      "6\n",
      "95\n"
     ]
    }
   ],
   "source": [
    "ll_ipos(head1, 8,95)\n",
    "ll_pr(head1)"
   ]
  },
  {
   "cell_type": "code",
   "execution_count": null,
   "metadata": {},
   "outputs": [],
   "source": []
  }
 ],
 "metadata": {
  "kernelspec": {
   "display_name": "Python 3 (ipykernel)",
   "language": "python",
   "name": "python3"
  },
  "language_info": {
   "codemirror_mode": {
    "name": "ipython",
    "version": 3
   },
   "file_extension": ".py",
   "mimetype": "text/x-python",
   "name": "python",
   "nbconvert_exporter": "python",
   "pygments_lexer": "ipython3",
   "version": "3.9.5"
  },
  "vscode": {
   "interpreter": {
    "hash": "81794d4967e6c3204c66dcd87b604927b115b27c00565d3d43f05ba2f3a2cb0d"
   }
  }
 },
 "nbformat": 4,
 "nbformat_minor": 2
}
