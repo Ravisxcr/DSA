{
 "cells": [
  {
   "cell_type": "code",
   "execution_count": 6,
   "metadata": {},
   "outputs": [],
   "source": [
    "from datetime import date\n",
    "class Student:\n",
    "\n",
    "    pass_percent = 40\n",
    "\n",
    "    def __init__(self,name,age,percentage):\n",
    "        self.__name = name\n",
    "        self.age = age\n",
    "        self.percentage = percentage\n",
    "\n",
    "    @classmethod\n",
    "    def fromBirthYear(cls,name,year,percentage):\n",
    "        return cls(name,date.today().year - year, percentage)\n",
    "    \n",
    "    def isPassed(self):\n",
    "        if self.percentage > Student.pass_percent:\n",
    "            print(f\"{self.__name} has passed\")\n",
    "\n",
    "    def printDetails(self):\n",
    "        print(\"Name: {} \\nAge: {} \\nPercentage: {}\".format(self.__name, self.age, self.percentage))\n",
    "\n",
    "    @staticmethod\n",
    "    def welcomeToSchool():\n",
    "        print(\"Hey Welcome to school\")\n",
    "\n",
    "    @staticmethod\n",
    "    def isTeen(age):\n",
    "        return age>16"
   ]
  },
  {
   "cell_type": "code",
   "execution_count": 7,
   "metadata": {},
   "outputs": [],
   "source": [
    "s1 = Student(\"Ravi\",21,45)"
   ]
  },
  {
   "cell_type": "code",
   "execution_count": 8,
   "metadata": {},
   "outputs": [
    {
     "name": "stdout",
     "output_type": "stream",
     "text": [
      "Name: Ravi \n",
      "Age: 21 \n",
      "Percentage: 45\n"
     ]
    }
   ],
   "source": [
    "s1.printDetails()"
   ]
  },
  {
   "cell_type": "code",
   "execution_count": 9,
   "metadata": {},
   "outputs": [
    {
     "name": "stdout",
     "output_type": "stream",
     "text": [
      "Ravi has passed\n"
     ]
    }
   ],
   "source": [
    "s1.isPassed()"
   ]
  },
  {
   "cell_type": "code",
   "execution_count": 10,
   "metadata": {},
   "outputs": [
    {
     "data": {
      "text/plain": [
       "True"
      ]
     },
     "execution_count": 10,
     "metadata": {},
     "output_type": "execute_result"
    }
   ],
   "source": [
    "s1.isTeen(23)"
   ]
  },
  {
   "cell_type": "code",
   "execution_count": 13,
   "metadata": {},
   "outputs": [
    {
     "data": {
      "text/plain": [
       "'Ravi'"
      ]
     },
     "execution_count": 13,
     "metadata": {},
     "output_type": "execute_result"
    }
   ],
   "source": [
    "s1._Student__name"
   ]
  },
  {
   "attachments": {},
   "cell_type": "markdown",
   "metadata": {},
   "source": [
    "Part 2"
   ]
  },
  {
   "cell_type": "code",
   "execution_count": 38,
   "metadata": {},
   "outputs": [],
   "source": [
    "class Vehicle:\n",
    "\n",
    "    def __init__(self, color,maxspeed):\n",
    "        self.color = color\n",
    "        self.__maxspeed = maxspeed\n",
    "    \n",
    "    def getMaxspeed(self):\n",
    "        return self.__maxspeed\n",
    "    \n",
    "    def setMaxspeed(self,maxspeed):\n",
    "        self.__maxspeed = maxspeed\n",
    "\n",
    "    def vehicleDetails(self):\n",
    "        print(f\"color: {self.color} \\nMaxspeed: {self.getMaxspeed()}\")\n",
    "        "
   ]
  },
  {
   "cell_type": "code",
   "execution_count": 39,
   "metadata": {},
   "outputs": [],
   "source": [
    "class Car(Vehicle):\n",
    "\n",
    "    def __init__(self,color,maxspeed,numgears,isconvertible):\n",
    "        super().__init__(color,maxspeed)\n",
    "        self.numgears = numgears\n",
    "        self.isconvertible = isconvertible\n",
    "\n",
    "    def printDetails(self):\n",
    "        super().vehicleDetails()            # self.vehicleDetails()\n",
    "        print(f\"Gears: {self.numgears} \\nConvertible: {self.isconvertible}\")"
   ]
  },
  {
   "cell_type": "code",
   "execution_count": 40,
   "metadata": {},
   "outputs": [],
   "source": [
    "s1 = Car(\"red\", 34, 4, \"T\")"
   ]
  },
  {
   "cell_type": "code",
   "execution_count": 41,
   "metadata": {},
   "outputs": [
    {
     "name": "stdout",
     "output_type": "stream",
     "text": [
      "color: red \n",
      "Maxspeed: 34\n",
      "Gears: 4 \n",
      "Convertible: T\n"
     ]
    }
   ],
   "source": [
    "s1.printDetails()"
   ]
  },
  {
   "attachments": {},
   "cell_type": "markdown",
   "metadata": {},
   "source": [
    "#### Object Class"
   ]
  },
  {
   "cell_type": "code",
   "execution_count": 42,
   "metadata": {},
   "outputs": [],
   "source": [
    "class Circle(object):\n",
    "\n",
    "    def __init__(self,radius):\n",
    "        self.radius = radius\n",
    "\n",
    "    def __str__(self):\n",
    "        return \"This is Object class\""
   ]
  },
  {
   "cell_type": "code",
   "execution_count": 43,
   "metadata": {},
   "outputs": [
    {
     "name": "stdout",
     "output_type": "stream",
     "text": [
      "This is Object class\n"
     ]
    }
   ],
   "source": [
    "c1  = Circle(23)\n",
    "print(c1)"
   ]
  },
  {
   "attachments": {},
   "cell_type": "markdown",
   "metadata": {},
   "source": [
    "#### Multiple Polymorphism"
   ]
  },
  {
   "cell_type": "code",
   "execution_count": 49,
   "metadata": {},
   "outputs": [],
   "source": [
    "class Mother:\n",
    "    def __init__(self):\n",
    "        self.name = \"Manju\"\n",
    "    def print(self):\n",
    "        print(\"print of mother called\")\n",
    "\n",
    "class Father:\n",
    "    def __inti__(self):\n",
    "        self.name = \"Ajay\"\n",
    "    def print(self):\n",
    "        print(\"print of father called\")\n",
    "\n",
    "class Child(Mother,Father):\n",
    "    def __init__(self) -> None:\n",
    "        super().__init__()\n",
    "    def printU(self):\n",
    "        print(\"print of child is called\")"
   ]
  },
  {
   "cell_type": "code",
   "execution_count": 50,
   "metadata": {},
   "outputs": [
    {
     "name": "stdout",
     "output_type": "stream",
     "text": [
      "print of mother called\n"
     ]
    }
   ],
   "source": [
    "c1 = Child()\n",
    "c1.print()"
   ]
  },
  {
   "cell_type": "code",
   "execution_count": 52,
   "metadata": {},
   "outputs": [
    {
     "name": "stdout",
     "output_type": "stream",
     "text": [
      "[<class '__main__.Child'>, <class '__main__.Mother'>, <class '__main__.Father'>, <class 'object'>]\n"
     ]
    }
   ],
   "source": [
    "\n",
    "print(Child.mro())"
   ]
  },
  {
   "attachments": {},
   "cell_type": "markdown",
   "metadata": {},
   "source": [
    "### Operator Overloading"
   ]
  },
  {
   "cell_type": "code",
   "execution_count": 61,
   "metadata": {},
   "outputs": [],
   "source": [
    "import math\n",
    "\n",
    "class Point:\n",
    "\n",
    "    def __init__(self,x,y):\n",
    "        self.__x = x\n",
    "        self.__y = y\n",
    "\n",
    "    def __str__(self):\n",
    "        return \"This point is at (\"+str(self.__x)+\",\"+str(self.__y)+\")\"\n",
    "    \n",
    "    def __add__(self, point_object):\n",
    "        return Point(self.__x + point_object.__x , self.__y + point_object.__y)\n",
    "    \n",
    "    def __lt__(self,point_object):\n",
    "        return math.sqrt(self.__x**2 + self.__y**2) < math.sqrt(point_object.__x**2 + point_object.__y**2)"
   ]
  },
  {
   "cell_type": "code",
   "execution_count": 62,
   "metadata": {},
   "outputs": [
    {
     "name": "stdout",
     "output_type": "stream",
     "text": [
      "This point is at (3,5)\n"
     ]
    }
   ],
   "source": [
    "p1 = Point(1,2)\n",
    "p2 = Point(2,3)\n",
    "p3 = p1+p2\n",
    "print(p3)"
   ]
  },
  {
   "cell_type": "code",
   "execution_count": 63,
   "metadata": {},
   "outputs": [
    {
     "data": {
      "text/plain": [
       "True"
      ]
     },
     "execution_count": 63,
     "metadata": {},
     "output_type": "execute_result"
    }
   ],
   "source": [
    "p1 < p2"
   ]
  },
  {
   "attachments": {},
   "cell_type": "markdown",
   "metadata": {},
   "source": [
    "## Abstract methods"
   ]
  },
  {
   "cell_type": "code",
   "execution_count": 7,
   "metadata": {},
   "outputs": [],
   "source": [
    "from abc import ABC, abstractmethod\n",
    "\n",
    "class Automobile(ABC):\n",
    "\n",
    "    def __init__(self):\n",
    "        print(\"Automobile Created\")\n",
    "\n",
    "    @abstractmethod\n",
    "    def start(self):\n",
    "        pass\n",
    "\n",
    "    @abstractmethod\n",
    "    def stop(self):\n",
    "        pass\n",
    "\n",
    "    @abstractmethod\n",
    "    def horn(self):\n",
    "        pass\n",
    "\n",
    "class Car(Automobile):\n",
    "\n",
    "    def __init__(self,name):\n",
    "        print(f\"{name} is created\")\n",
    "        self.name = name\n",
    "\n",
    "    def start(self):\n",
    "        print(f\"Starting {self.name}\")\n",
    "\n",
    "    def horn(self):\n",
    "        print(f\"{self.name} is blowing horn\")\n",
    "\n",
    "    def stop(self):\n",
    "        print(f\"{self.name} is stopping\")"
   ]
  },
  {
   "cell_type": "code",
   "execution_count": 8,
   "metadata": {},
   "outputs": [
    {
     "name": "stdout",
     "output_type": "stream",
     "text": [
      "Honda is created\n"
     ]
    }
   ],
   "source": [
    "c1 = Car(\"Honda\")"
   ]
  }
 ],
 "metadata": {
  "kernelspec": {
   "display_name": "Python 3",
   "language": "python",
   "name": "python3"
  },
  "language_info": {
   "codemirror_mode": {
    "name": "ipython",
    "version": 3
   },
   "file_extension": ".py",
   "mimetype": "text/x-python",
   "name": "python",
   "nbconvert_exporter": "python",
   "pygments_lexer": "ipython3",
   "version": "3.9.5"
  },
  "orig_nbformat": 4
 },
 "nbformat": 4,
 "nbformat_minor": 2
}
