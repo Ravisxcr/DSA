{
 "cells": [
  {
   "cell_type": "code",
   "execution_count": 66,
   "metadata": {},
   "outputs": [],
   "source": [
    "class StackList:\n",
    "\n",
    "    def __init__(self) -> None:\n",
    "        self.__data = []\n",
    "\n",
    "    def push(self, item):\n",
    "        self.__data.append(item)\n",
    "\n",
    "    def pop(self):\n",
    "        if len(self.__data) == 0:\n",
    "            print(\"Stack is empty\")\n",
    "            return\n",
    "        return  self.__data.pop()\n",
    "    \n",
    "    def size(self):\n",
    "        return (len(self.__data))\n",
    "    \n",
    "    def isEmpty(self):\n",
    "        return self.size() == 0\n",
    "    \n",
    "    def top(self):\n",
    "        if len(self.__data) == 0:\n",
    "            print(\"Stack is empty\")\n",
    "            pass\n",
    "        ele = self.__data[-1]\n",
    "        return ele\n"
   ]
  },
  {
   "cell_type": "code",
   "execution_count": 68,
   "metadata": {},
   "outputs": [],
   "source": [
    "a = StackList()\n",
    "a.push(2)\n",
    "a.push(3)\n",
    "a.push(7)\n",
    "\n",
    "b = StackList()"
   ]
  },
  {
   "cell_type": "code",
   "execution_count": 7,
   "metadata": {},
   "outputs": [],
   "source": [
    "class Node:\n",
    "    def __init__(self,data) -> None:\n",
    "        self.data = data\n",
    "        self.next = None\n"
   ]
  },
  {
   "cell_type": "code",
   "execution_count": 37,
   "metadata": {},
   "outputs": [],
   "source": [
    "class stackLL:\n",
    "    \n",
    "    def __init__(self) -> None:\n",
    "        self.__head = None\n",
    "        self.__count = 0\n",
    "\n",
    "    def push(self,data):\n",
    "        newNode = Node(data)\n",
    "        newNode.next = self.__head\n",
    "        self.__head = newNode\n",
    "        self.__count += 1\n",
    "\n",
    "    def isEmpty(self):\n",
    "        return self.__count == 0\n",
    "    \n",
    "    def pop(self):\n",
    "        if self.isEmpty() is True:\n",
    "            print(\"Empty\")\n",
    "            return\n",
    "        ele = self.__head.data\n",
    "        self.__head = self.__head.next\n",
    "        self.__count -= 1\n",
    "        return ele\n",
    "    \n",
    "    def size(self):\n",
    "        return self.__count\n",
    "    \n",
    "    def top(self):\n",
    "        if self.isEmpty() is True:\n",
    "            print(\"Empty\")\n",
    "            return\n",
    "        ele = self.__head.data\n",
    "        return ele"
   ]
  },
  {
   "cell_type": "code",
   "execution_count": 64,
   "metadata": {},
   "outputs": [
    {
     "data": {
      "text/plain": [
       "7"
      ]
     },
     "execution_count": 64,
     "metadata": {},
     "output_type": "execute_result"
    }
   ],
   "source": [
    "a = stackLL()\n",
    "a.push(2)\n",
    "a.push(3)\n",
    "a.push(7)\n",
    "\n",
    "a.top()"
   ]
  },
  {
   "cell_type": "code",
   "execution_count": null,
   "metadata": {},
   "outputs": [],
   "source": [
    "b = "
   ]
  },
  {
   "cell_type": "markdown",
   "metadata": {},
   "source": [
    "Inbuilt Stack and Queue\n"
   ]
  },
  {
   "cell_type": "code",
   "execution_count": 40,
   "metadata": {},
   "outputs": [],
   "source": [
    "import queue\n"
   ]
  },
  {
   "cell_type": "code",
   "execution_count": 44,
   "metadata": {},
   "outputs": [
    {
     "name": "stdout",
     "output_type": "stream",
     "text": [
      "0\n",
      "1\n",
      "4\n",
      "9\n",
      "16\n",
      "25\n",
      "36\n",
      "49\n",
      "64\n",
      "81\n",
      "100\n",
      "121\n",
      "144\n",
      "169\n",
      "196\n",
      "225\n",
      "256\n",
      "289\n",
      "324\n",
      "361\n"
     ]
    }
   ],
   "source": [
    "q = queue.Queue() #queue implementation\n",
    "for i in range(20):\n",
    "    q.put(i**2)\n",
    "while not q.empty():\n",
    "    print(q.get())"
   ]
  },
  {
   "cell_type": "code",
   "execution_count": 46,
   "metadata": {},
   "outputs": [
    {
     "name": "stdout",
     "output_type": "stream",
     "text": [
      "361\n",
      "324\n",
      "289\n",
      "256\n",
      "225\n",
      "196\n",
      "169\n",
      "144\n",
      "121\n",
      "100\n",
      "81\n",
      "64\n",
      "49\n",
      "36\n",
      "25\n",
      "16\n",
      "9\n",
      "4\n",
      "1\n",
      "0\n"
     ]
    }
   ],
   "source": [
    "q = queue.LifoQueue()   # Stack implementation\n",
    "for i in range(20):\n",
    "    q.put(i**2)\n",
    "while not q.empty():\n",
    "    print(q.get())"
   ]
  },
  {
   "cell_type": "code",
   "execution_count": 58,
   "metadata": {},
   "outputs": [
    {
     "name": "stderr",
     "output_type": "stream",
     "text": [
      "<>:8: SyntaxWarning: \"is\" with a literal. Did you mean \"==\"?\n",
      "<>:9: SyntaxWarning: \"is not\" with a literal. Did you mean \"!=\"?\n",
      "<>:13: SyntaxWarning: \"is\" with a literal. Did you mean \"==\"?\n",
      "<>:14: SyntaxWarning: \"is not\" with a literal. Did you mean \"!=\"?\n",
      "<>:18: SyntaxWarning: \"is\" with a literal. Did you mean \"==\"?\n",
      "<>:19: SyntaxWarning: \"is not\" with a literal. Did you mean \"!=\"?\n",
      "<>:8: SyntaxWarning: \"is\" with a literal. Did you mean \"==\"?\n",
      "<>:9: SyntaxWarning: \"is not\" with a literal. Did you mean \"!=\"?\n",
      "<>:13: SyntaxWarning: \"is\" with a literal. Did you mean \"==\"?\n",
      "<>:14: SyntaxWarning: \"is not\" with a literal. Did you mean \"!=\"?\n",
      "<>:18: SyntaxWarning: \"is\" with a literal. Did you mean \"==\"?\n",
      "<>:19: SyntaxWarning: \"is not\" with a literal. Did you mean \"!=\"?\n",
      "C:\\Users\\Ravi\\AppData\\Local\\Temp/ipykernel_21540/3549562098.py:8: SyntaxWarning: \"is\" with a literal. Did you mean \"==\"?\n",
      "  elif char is ')':\n",
      "C:\\Users\\Ravi\\AppData\\Local\\Temp/ipykernel_21540/3549562098.py:9: SyntaxWarning: \"is not\" with a literal. Did you mean \"!=\"?\n",
      "  if (not s or s[-1] is not '('):\n",
      "C:\\Users\\Ravi\\AppData\\Local\\Temp/ipykernel_21540/3549562098.py:13: SyntaxWarning: \"is\" with a literal. Did you mean \"==\"?\n",
      "  elif char is '}':\n",
      "C:\\Users\\Ravi\\AppData\\Local\\Temp/ipykernel_21540/3549562098.py:14: SyntaxWarning: \"is not\" with a literal. Did you mean \"!=\"?\n",
      "  if (not s or s[-1] is not '{'):\n",
      "C:\\Users\\Ravi\\AppData\\Local\\Temp/ipykernel_21540/3549562098.py:18: SyntaxWarning: \"is\" with a literal. Did you mean \"==\"?\n",
      "  elif char is ']':\n",
      "C:\\Users\\Ravi\\AppData\\Local\\Temp/ipykernel_21540/3549562098.py:19: SyntaxWarning: \"is not\" with a literal. Did you mean \"!=\"?\n",
      "  if (not s or s[-1] is not '['):\n"
     ]
    }
   ],
   "source": [
    "# Balanced Brackets\n",
    "\n",
    "def isBalanced(string):\n",
    "    s = []\n",
    "    for char in string:\n",
    "        if char in '({[':\n",
    "            s.append(char)\n",
    "        elif char is ')':\n",
    "            if (not s or s[-1] is not '('):\n",
    "                return False\n",
    "            else:\n",
    "                s.pop()\n",
    "        elif char is '}':\n",
    "            if (not s or s[-1] is not '{'):\n",
    "                return False\n",
    "            else:\n",
    "                s.pop()\n",
    "        elif char is ']':\n",
    "            if (not s or s[-1] is not '['):\n",
    "                return False\n",
    "            else:\n",
    "                s.pop()\n",
    "        \n",
    "    if not s :\n",
    "        return True\n",
    "    else:\n",
    "        return False"
   ]
  },
  {
   "cell_type": "code",
   "execution_count": 70,
   "metadata": {},
   "outputs": [],
   "source": [
    "def reverseStack(s1, s2):\n",
    "    \n",
    "    if s1.size() <= 1:\n",
    "        return s1\n",
    "    \n",
    "    while s1.size() != 1:\n",
    "        ele = s1.pop()\n",
    "        s2.push(ele)\n",
    "\n",
    "    last_ele = s1.pop()\n",
    "\n",
    "    while s2.size() != 0:\n",
    "        ele = s2.pop()\n",
    "        s1.push(ele)\n",
    "\n",
    "    reverseStack(s1,s2)\n",
    "    s1.push(ele)"
   ]
  }
 ],
 "metadata": {
  "kernelspec": {
   "display_name": "Python 3.9.5 64-bit",
   "language": "python",
   "name": "python3"
  },
  "language_info": {
   "codemirror_mode": {
    "name": "ipython",
    "version": 3
   },
   "file_extension": ".py",
   "mimetype": "text/x-python",
   "name": "python",
   "nbconvert_exporter": "python",
   "pygments_lexer": "ipython3",
   "version": "3.9.5"
  },
  "orig_nbformat": 4,
  "vscode": {
   "interpreter": {
    "hash": "81794d4967e6c3204c66dcd87b604927b115b27c00565d3d43f05ba2f3a2cb0d"
   }
  }
 },
 "nbformat": 4,
 "nbformat_minor": 2
}
