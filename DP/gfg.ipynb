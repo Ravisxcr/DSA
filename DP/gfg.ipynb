{
 "cells": [
  {
   "attachments": {},
   "cell_type": "markdown",
   "metadata": {},
   "source": [
    "1. Knapsack with Duplicate Items"
   ]
  },
  {
   "cell_type": "code",
   "execution_count": 1,
   "metadata": {},
   "outputs": [],
   "source": [
    "class Solution:\n",
    "    def knapSack(self, N, W, val, wt):\n",
    "        # code here\n",
    "        \n",
    "        dp = [0 for i in range(W + 1)]\n",
    " \n",
    "        ans = 0\n",
    "     \n",
    "        # Fill dp[] using above recursive formula\n",
    "        for i in range(W + 1):\n",
    "            for j in range(N):\n",
    "                if (wt[j] <= i):\n",
    "                    dp[i] = max(dp[i], dp[i - wt[j]] + val[j])\n",
    "     \n",
    "        return dp[W]"
   ]
  },
  {
   "attachments": {},
   "cell_type": "markdown",
   "metadata": {},
   "source": [
    "2. BBT counter"
   ]
  },
  {
   "cell_type": "code",
   "execution_count": 6,
   "metadata": {},
   "outputs": [
    {
     "name": "stdout",
     "output_type": "stream",
     "text": [
      "[' ', ' ', 'hello', ' ', 'ello World']\n"
     ]
    }
   ],
   "source": [
    "def solve(A):\n",
    "    arr = []\n",
    "    s = 0\n",
    "    for i in range(len(A)):\n",
    "        if A[i].isspace():\n",
    "            arr.append(A[i])\n",
    "            if s!= i:\n",
    "                arr.append(A[s:i])\n",
    "            s+=1\n",
    "\n",
    "    print(arr)\n",
    "\n",
    "solve(' hello World ')"
   ]
  },
  {
   "attachments": {},
   "cell_type": "markdown",
   "metadata": {},
   "source": [
    "3. Permutation Coefficient"
   ]
  },
  {
   "cell_type": "code",
   "execution_count": null,
   "metadata": {},
   "outputs": [],
   "source": [
    "def permutationCoeff(n, k):\n",
    "    fact = [0 for i in range(n + 1)]\n",
    " \n",
    "    # base case\n",
    "    fact[0] = 1\n",
    " \n",
    "    # Calculate value\n",
    "    # factorials up to n\n",
    "    for i in range(1, n + 1):\n",
    "        fact[i] = i * fact[i - 1]\n",
    " \n",
    "    # P(n, k) = n!/(n-k)!\n",
    "    return int(fact[n] / fact[n - k])"
   ]
  },
  {
   "cell_type": "code",
   "execution_count": null,
   "metadata": {},
   "outputs": [],
   "source": [
    "def permutationCoeff(n, k):\n",
    " \n",
    "    P = [[0 for i in range(k + 1)]\n",
    "            for j in range(n + 1)]\n",
    " \n",
    "    # Calculate value of Permutation\n",
    "    # Coefficient in\n",
    "    # bottom up manner\n",
    "    for i in range(n + 1):\n",
    "        for j in range(min(i, k) + 1):\n",
    " \n",
    "            # Base cases\n",
    "            if (j == 0):\n",
    "                P[i][j] = 1\n",
    " \n",
    "            # Calculate value using\n",
    "            # previously stored values\n",
    "            else:\n",
    "                P[i][j] = P[i - 1][j] + (\n",
    "                        j * P[i - 1][j - 1])\n",
    " \n",
    "            # This step is important\n",
    "            # as P(i, j) = 0 for j>i\n",
    "            if (j < k):\n",
    "                P[i][j + 1] = 0\n",
    "    return P[n][k]"
   ]
  },
  {
   "attachments": {},
   "cell_type": "markdown",
   "metadata": {},
   "source": [
    "4. Count Balanced Binary Trees of Height h\n"
   ]
  },
  {
   "cell_type": "code",
   "execution_count": 5,
   "metadata": {},
   "outputs": [],
   "source": [
    "def countBT(h) :\n",
    "    MOD = 1000000007\n",
    "    #initialize list\n",
    "    dp = [0 for i in range(h + 1)]\n",
    "     \n",
    "    #base cases\n",
    "    dp[0] = 1\n",
    "    dp[1] = 1\n",
    "     \n",
    "    for i in range(2, h + 1) :\n",
    "        dp[i] = (dp[i - 1] * ((2 * dp [i - 2])%MOD + dp[i - 1])%MOD) % MOD\n",
    "     \n",
    "    return dp[h]"
   ]
  },
  {
   "cell_type": "code",
   "execution_count": 2,
   "metadata": {},
   "outputs": [],
   "source": [
    "def countBT(h) :\n",
    "    BIG_PRIME = 1000000007\n",
    "    if h < 2:\n",
    "          return 1\n",
    "    dp0 = dp1 = 1\n",
    "    dp2 = 3\n",
    "    for _ in range(2,h+1):\n",
    "        dp2 = (dp1*dp1 + 2*dp1*dp0)%BIG_PRIME\n",
    "        dp0 = dp1\n",
    "        dp1 = dp2\n",
    "    return dp2"
   ]
  },
  {
   "attachments": {},
   "cell_type": "markdown",
   "metadata": {},
   "source": [
    "5. Count number of ways to reach a given score in a game"
   ]
  },
  {
   "cell_type": "code",
   "execution_count": 20,
   "metadata": {},
   "outputs": [],
   "source": [
    "def countWays(n: int) -> int:\n",
    "    # ways[i] will store count of solutions for value i\n",
    "    ways = [0] * (n + 1)\n",
    "   \n",
    "    # Base case (If given value is 0)\n",
    "    ways[0] = 1\n",
    "   \n",
    "    # Consider all possible moves\n",
    "    moves = [3, 5, 10]\n",
    "    for i in range(3):\n",
    "        for j in range(moves[i], n+1):\n",
    "            ways[j] += ways[j - moves[i]]\n",
    "   \n",
    "    return ways[n]"
   ]
  },
  {
   "attachments": {},
   "cell_type": "markdown",
   "metadata": {},
   "source": [
    "6. Maximum difference of zeros and ones in binary string"
   ]
  },
  {
   "cell_type": "code",
   "execution_count": 22,
   "metadata": {},
   "outputs": [],
   "source": [
    "MAX = 100\n",
    " \n",
    "# Return true if there all 1s\n",
    "def allones(s, n):\n",
    "     \n",
    "    # Checking each index\n",
    "    # is 0 or not.\n",
    "    co = 0\n",
    "     \n",
    "    for i in s:\n",
    "        co += 1 if i == '1' else 0\n",
    " \n",
    "    return co == n\n",
    " \n",
    "# Find the length of substring with\n",
    "# maximum difference of zeroes and\n",
    "# ones in binary string\n",
    "def findlength(arr, s, n, ind, st, dp):\n",
    "     \n",
    "    # If string is over\n",
    "    if ind >= n:\n",
    "        return 0\n",
    " \n",
    "    # If the state is already calculated.\n",
    "    if dp[ind][st] != -1:\n",
    "        return dp[ind][st]\n",
    " \n",
    "    if not st:\n",
    "        dp[ind][st] = max(arr[ind] +\n",
    "           findlength(arr, s, n, ind + 1, 1, dp),\n",
    "            (findlength(arr, s, n, ind + 1, 0, dp)))\n",
    "    else:\n",
    "        dp[ind][st] = max(arr[ind] +\n",
    "         findlength(arr, s, n, ind + 1, 1, dp), 0)\n",
    "          \n",
    "    return dp[ind][st]\n",
    " \n",
    "# Returns length of substring which is\n",
    "# having maximum difference of number\n",
    "# of 0s and number of 1s\n",
    "def maxLen(s, n):\n",
    "     \n",
    "    # If all 1s return -1.\n",
    "    if allones(s, n):\n",
    "        return -1\n",
    " \n",
    "    # Else find the length.\n",
    "    arr = [0] * MAX\n",
    "    for i in range(n):\n",
    "        arr[i] = 1 if s[i] == '0' else -1\n",
    " \n",
    "    dp = [[-1] * 3 for _ in range(MAX)]\n",
    "    return findlength(arr, s, n, 0, 0, dp)"
   ]
  },
  {
   "attachments": {},
   "cell_type": "markdown",
   "metadata": {},
   "source": [
    "7. Longest Repeating Subsequence"
   ]
  },
  {
   "cell_type": "code",
   "execution_count": null,
   "metadata": {},
   "outputs": [],
   "source": [
    "def findLongestRepeatingSubSeq( str):\n",
    " \n",
    "    n = len(str)\n",
    " \n",
    "    # Create and initialize DP table\n",
    "    dp=[[0 for i in range(n+1)] for j in range(n+1)]\n",
    " \n",
    "    # Fill dp table (similar to LCS loops)\n",
    "    for i in range(1,n+1):\n",
    "        for j in range(1,n+1):\n",
    "            # If characters match and indexes are\n",
    "            # not same\n",
    "            if (str[i-1] == str[j-1] and i != j):\n",
    "                dp[i][j] = 1 + dp[i-1][j-1]        \n",
    "                         \n",
    "            # If characters do not match\n",
    "            else:\n",
    "                dp[i][j] = max(dp[i][j-1], dp[i-1][j])\n",
    "         \n",
    "     \n",
    "    return dp[n][n]"
   ]
  },
  {
   "cell_type": "code",
   "execution_count": null,
   "metadata": {},
   "outputs": [],
   "source": [
    "def findLongestRepeatingSubSeq(str):\n",
    "    n = len(str)\n",
    " \n",
    "    # Create and initialize DP table\n",
    "    dp = [0 for i in range(n + 1)]\n",
    " \n",
    "    # Fill dp table (similar to LCS loops)\n",
    "    for i in range(1, n + 1):\n",
    "        new_a = [0]\n",
    "        for j in range(1, n + 1):\n",
    "            # If characters match and indexes are\n",
    "            # not same\n",
    "            if str[i - 1] == str[j - 1] and i != j:\n",
    "                new_a.append(1 + dp[j - 1])\n",
    " \n",
    "                # If characters do not match\n",
    "            else:\n",
    "                new_a.append(max(dp[j], new_a[-1]))\n",
    "        dp = new_a[:]\n",
    "    return dp[-1]"
   ]
  }
 ],
 "metadata": {
  "kernelspec": {
   "display_name": "Python 3",
   "language": "python",
   "name": "python3"
  },
  "language_info": {
   "codemirror_mode": {
    "name": "ipython",
    "version": 3
   },
   "file_extension": ".py",
   "mimetype": "text/x-python",
   "name": "python",
   "nbconvert_exporter": "python",
   "pygments_lexer": "ipython3",
   "version": "3.9.5"
  },
  "orig_nbformat": 4
 },
 "nbformat": 4,
 "nbformat_minor": 2
}
