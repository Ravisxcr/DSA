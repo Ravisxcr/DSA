{
 "cells": [
  {
   "attachments": {},
   "cell_type": "markdown",
   "metadata": {},
   "source": [
    "1. Detect Cycle in a Directed Graph"
   ]
  },
  {
   "cell_type": "code",
   "execution_count": 10,
   "metadata": {},
   "outputs": [],
   "source": [
    "\n",
    " \n",
    "def isCyclicUtil(self, v, visited, recStack):\n",
    "    visited[v] = True\n",
    "    recStack[v] = True\n",
    "\n",
    "    for neighbour in self.graph[v]:\n",
    "        if visited[neighbour] == False:\n",
    "            if self.isCyclicUtil(neighbour, visited, recStack) == True:\n",
    "                return True\n",
    "        elif recStack[neighbour] == True:\n",
    "            return True\n",
    "\n",
    "    recStack[v] = False\n",
    "    return False\n",
    "\n",
    "\n",
    "def isCyclic(self):\n",
    "        visited = [False] * (self.V + 1)\n",
    "        recStack = [False] * (self.V + 1)\n",
    "        for node in range(self.V):\n",
    "            if visited[node] == False:\n",
    "                if self.isCyclicUtil(node, visited, recStack) == True:\n",
    "                    return True\n",
    "        return False"
   ]
  },
  {
   "cell_type": "markdown",
   "metadata": {},
   "source": [
    "2. Detect cycle in an undirected graph"
   ]
  },
  {
   "cell_type": "code",
   "execution_count": null,
   "metadata": {},
   "outputs": [],
   "source": [
    "from typing import List\n",
    "class Solution:\n",
    "#Function to detect cycle in an undirected graph.\n",
    "    def helper(self, node, vis, parent, adj):\n",
    "        \n",
    "        vis[node] = True\n",
    "        \n",
    "        for j in adj[node]:\n",
    "            if vis[j] == False:\n",
    "                if self.helper(j, vis, node, adj):\n",
    "                    return True\n",
    "            elif j != parent:\n",
    "                return True\n",
    "                    \n",
    "        return False\n",
    "    \n",
    "\n",
    "    def isCycle(self, V: int, adj: List[List[int]]) -> bool:\n",
    "        #Code here\n",
    "        vis = [False]*V\n",
    "        \n",
    "        for i in range(V):\n",
    "            if vis[i] == False:\n",
    "                if self.helper(i, vis, -1, adj) == True:\n",
    "                    return True\n",
    "        return False"
   ]
  },
  {
   "attachments": {},
   "cell_type": "markdown",
   "metadata": {},
   "source": [
    "3. Rat in a Maze"
   ]
  },
  {
   "cell_type": "code",
   "execution_count": 4,
   "metadata": {},
   "outputs": [],
   "source": [
    "res = []\n",
    " \n",
    "def isValid(row, col, m, n):\n",
    "    if (row >= 0 and row < n and col >= 0 and col < n and m[row][col] == 1):\n",
    "        return True\n",
    "    return False\n",
    " \n",
    "     \n",
    "def findPathHelper(m, n, x, y, dx, dy, path):\n",
    "   \n",
    "    global res\n",
    "     \n",
    "    if (x == n - 1 and y == n - 1):\n",
    "        res.append(path)\n",
    "        return\n",
    " \n",
    "    dir = \"DLRU\"\n",
    "    for i in range(4):\n",
    "        row = x + dx[i]\n",
    "        col = y + dy[i]\n",
    "        if (isValid(row, col, m, n)):\n",
    "            m[row][col] = 2             # used to track visited cells of matrix\n",
    "            findPathHelper(m, n, row, col, dx, dy, path + dir[i])\n",
    "            m[row][col] = 1             # mark it unvisited yet explorable\n",
    "         \n",
    "def findPath(m,n):\n",
    "    global res\n",
    "     \n",
    "    res.clear()\n",
    "     \n",
    "    # dx, dy will be used to follow `DLRU` exploring approach\n",
    "    # which is lexicographically sorted order\n",
    "    dx = [ 1, 0, 0, -1 ]\n",
    "    dy = [ 0, -1, 1, 0 ]\n",
    "    if (m[0][0] == 1):\n",
    "        m[0][0] = 2\n",
    "        findPathHelper(m, n, 0, 0, dx, dy, \"\")\n",
    " \n",
    "    return res"
   ]
  },
  {
   "attachments": {},
   "cell_type": "markdown",
   "metadata": {},
   "source": [
    "4. Steps by Knight "
   ]
  },
  {
   "cell_type": "code",
   "execution_count": 13,
   "metadata": {},
   "outputs": [],
   "source": [
    "class cell:\n",
    " \n",
    "    def __init__(self, x=0, y=0, dist=0):\n",
    "        self.x = x\n",
    "        self.y = y\n",
    "        self.dist = dist\n",
    " \n",
    "# checks whether given position is\n",
    "# inside the board\n",
    " \n",
    " \n",
    "def isInside(x, y, N):\n",
    "    if (x >= 1 and x <= N and\n",
    "            y >= 1 and y <= N):\n",
    "        return True\n",
    "    return False\n",
    " \n",
    "# Method returns minimum step to reach\n",
    "# target position\n",
    " \n",
    " \n",
    "def minStepToReachTarget(knightpos,\n",
    "                         targetpos, N):\n",
    " \n",
    "    # all possible movements for the knight\n",
    "    dx = [2, 2, -2, -2, 1, 1, -1, -1]\n",
    "    dy = [1, -1, 1, -1, 2, -2, 2, -2]\n",
    " \n",
    "    queue = []\n",
    " \n",
    "    # push starting position of knight\n",
    "    # with 0 distance\n",
    "    queue.append(cell(knightpos[0], knightpos[1], 0))\n",
    " \n",
    "    # make all cell unvisited\n",
    "    visited = [[False for i in range(N + 1)]\n",
    "               for j in range(N + 1)]\n",
    " \n",
    "    # visit starting state\n",
    "    visited[knightpos[0]][knightpos[1]] = True\n",
    " \n",
    "    # loop until we have one element in queue\n",
    "    while(len(queue) > 0):\n",
    " \n",
    "        t = queue[0]\n",
    "        queue.pop(0)\n",
    " \n",
    "        # if current cell is equal to target\n",
    "        # cell, return its distance\n",
    "        if(t.x == targetpos[0] and\n",
    "           t.y == targetpos[1]):\n",
    "            return t.dist\n",
    " \n",
    "        # iterate for all reachable states\n",
    "        for i in range(8):\n",
    " \n",
    "            x = t.x + dx[i]\n",
    "            y = t.y + dy[i]\n",
    " \n",
    "            if(isInside(x, y, N) and not visited[x][y]):\n",
    "                visited[x][y] = True\n",
    "                queue.append(cell(x, y, t.dist + 1))"
   ]
  },
  {
   "cell_type": "code",
   "execution_count": 11,
   "metadata": {},
   "outputs": [],
   "source": [
    "class Solution:\n",
    "\n",
    "#Function to find out minimum steps Knight needs to reach target position.\n",
    "    def isSafe(self,x,y,N):\n",
    "        return x>=1 and y>=1 and x<=N and y<=N\n",
    "    \n",
    "    def minStepToReachTarget(self, KnightPos, TargetPos, N):\n",
    "        #Code here\n",
    "        \n",
    "        dx = [1,2,2,1,-1,-2,-2,-1]\n",
    "        dy = [2,1,-1,-2,2,1,-1,-2]\n",
    "        \n",
    "        q = [[KnightPos[0],KnightPos[1],0]]\n",
    "        \n",
    "        visited = [[False for i in range(N+1)] for j in range(N+1)]\n",
    "        \n",
    "        while len(q)>0:\n",
    "\n",
    "            print(q)\n",
    "            \n",
    "            t = q[0]\n",
    "            q.pop(0)\n",
    "            \n",
    "            if t[0] == TargetPos[0] and t[1] == TargetPos[1]:\n",
    "                return t[2]\n",
    "                \n",
    "            for i in range(8):\n",
    "                \n",
    "                x = t[0] + dx[i]\n",
    "                y = t[1] + dy[i]\n",
    "                \n",
    "                if self.isSafe(x,y,N) and visited[x][y] == False:\n",
    "                    visited[x][y] = True\n",
    "                    q.append([x,y,t[2]+1])\n",
    "                    \n",
    "        return -1"
   ]
  },
  {
   "cell_type": "code",
   "execution_count": 12,
   "metadata": {},
   "outputs": [
    {
     "name": "stdout",
     "output_type": "stream",
     "text": [
      "[[4, 5, 0]]\n",
      "[[6, 6, 1], [6, 4, 1], [5, 3, 1], [2, 6, 1], [2, 4, 1], [3, 3, 1]]\n",
      "[[6, 4, 1], [5, 3, 1], [2, 6, 1], [2, 4, 1], [3, 3, 1], [4, 5, 2], [5, 4, 2]]\n",
      "[[5, 3, 1], [2, 6, 1], [2, 4, 1], [3, 3, 1], [4, 5, 2], [5, 4, 2], [5, 6, 2], [4, 3, 2], [5, 2, 2]]\n",
      "[[2, 6, 1], [2, 4, 1], [3, 3, 1], [4, 5, 2], [5, 4, 2], [5, 6, 2], [4, 3, 2], [5, 2, 2], [6, 5, 2], [6, 1, 2], [3, 4, 2], [3, 2, 2], [4, 1, 2]]\n",
      "[[2, 4, 1], [3, 3, 1], [4, 5, 2], [5, 4, 2], [5, 6, 2], [4, 3, 2], [5, 2, 2], [6, 5, 2], [6, 1, 2], [3, 4, 2], [3, 2, 2], [4, 1, 2], [1, 4, 2]]\n",
      "[[3, 3, 1], [4, 5, 2], [5, 4, 2], [5, 6, 2], [4, 3, 2], [5, 2, 2], [6, 5, 2], [6, 1, 2], [3, 4, 2], [3, 2, 2], [4, 1, 2], [1, 4, 2], [3, 6, 2], [1, 6, 2], [1, 2, 2]]\n",
      "[[4, 5, 2], [5, 4, 2], [5, 6, 2], [4, 3, 2], [5, 2, 2], [6, 5, 2], [6, 1, 2], [3, 4, 2], [3, 2, 2], [4, 1, 2], [1, 4, 2], [3, 6, 2], [1, 6, 2], [1, 2, 2], [2, 5, 2], [2, 1, 2]]\n",
      "[[5, 4, 2], [5, 6, 2], [4, 3, 2], [5, 2, 2], [6, 5, 2], [6, 1, 2], [3, 4, 2], [3, 2, 2], [4, 1, 2], [1, 4, 2], [3, 6, 2], [1, 6, 2], [1, 2, 2], [2, 5, 2], [2, 1, 2]]\n",
      "[[5, 6, 2], [4, 3, 2], [5, 2, 2], [6, 5, 2], [6, 1, 2], [3, 4, 2], [3, 2, 2], [4, 1, 2], [1, 4, 2], [3, 6, 2], [1, 6, 2], [1, 2, 2], [2, 5, 2], [2, 1, 2], [6, 2, 3], [4, 6, 3], [3, 5, 3], [4, 2, 3]]\n",
      "[[4, 3, 2], [5, 2, 2], [6, 5, 2], [6, 1, 2], [3, 4, 2], [3, 2, 2], [4, 1, 2], [1, 4, 2], [3, 6, 2], [1, 6, 2], [1, 2, 2], [2, 5, 2], [2, 1, 2], [6, 2, 3], [4, 6, 3], [3, 5, 3], [4, 2, 3], [4, 4, 3]]\n",
      "[[5, 2, 2], [6, 5, 2], [6, 1, 2], [3, 4, 2], [3, 2, 2], [4, 1, 2], [1, 4, 2], [3, 6, 2], [1, 6, 2], [1, 2, 2], [2, 5, 2], [2, 1, 2], [6, 2, 3], [4, 6, 3], [3, 5, 3], [4, 2, 3], [4, 4, 3], [5, 5, 3], [5, 1, 3], [2, 2, 3], [3, 1, 3]]\n",
      "[[6, 5, 2], [6, 1, 2], [3, 4, 2], [3, 2, 2], [4, 1, 2], [1, 4, 2], [3, 6, 2], [1, 6, 2], [1, 2, 2], [2, 5, 2], [2, 1, 2], [6, 2, 3], [4, 6, 3], [3, 5, 3], [4, 2, 3], [4, 4, 3], [5, 5, 3], [5, 1, 3], [2, 2, 3], [3, 1, 3]]\n",
      "[[6, 1, 2], [3, 4, 2], [3, 2, 2], [4, 1, 2], [1, 4, 2], [3, 6, 2], [1, 6, 2], [1, 2, 2], [2, 5, 2], [2, 1, 2], [6, 2, 3], [4, 6, 3], [3, 5, 3], [4, 2, 3], [4, 4, 3], [5, 5, 3], [5, 1, 3], [2, 2, 3], [3, 1, 3]]\n",
      "[[3, 4, 2], [3, 2, 2], [4, 1, 2], [1, 4, 2], [3, 6, 2], [1, 6, 2], [1, 2, 2], [2, 5, 2], [2, 1, 2], [6, 2, 3], [4, 6, 3], [3, 5, 3], [4, 2, 3], [4, 4, 3], [5, 5, 3], [5, 1, 3], [2, 2, 3], [3, 1, 3]]\n",
      "[[3, 2, 2], [4, 1, 2], [1, 4, 2], [3, 6, 2], [1, 6, 2], [1, 2, 2], [2, 5, 2], [2, 1, 2], [6, 2, 3], [4, 6, 3], [3, 5, 3], [4, 2, 3], [4, 4, 3], [5, 5, 3], [5, 1, 3], [2, 2, 3], [3, 1, 3], [1, 5, 3], [1, 3, 3]]\n",
      "[[4, 1, 2], [1, 4, 2], [3, 6, 2], [1, 6, 2], [1, 2, 2], [2, 5, 2], [2, 1, 2], [6, 2, 3], [4, 6, 3], [3, 5, 3], [4, 2, 3], [4, 4, 3], [5, 5, 3], [5, 1, 3], [2, 2, 3], [3, 1, 3], [1, 5, 3], [1, 3, 3], [1, 1, 3]]\n",
      "[[1, 4, 2], [3, 6, 2], [1, 6, 2], [1, 2, 2], [2, 5, 2], [2, 1, 2], [6, 2, 3], [4, 6, 3], [3, 5, 3], [4, 2, 3], [4, 4, 3], [5, 5, 3], [5, 1, 3], [2, 2, 3], [3, 1, 3], [1, 5, 3], [1, 3, 3], [1, 1, 3]]\n",
      "[[3, 6, 2], [1, 6, 2], [1, 2, 2], [2, 5, 2], [2, 1, 2], [6, 2, 3], [4, 6, 3], [3, 5, 3], [4, 2, 3], [4, 4, 3], [5, 5, 3], [5, 1, 3], [2, 2, 3], [3, 1, 3], [1, 5, 3], [1, 3, 3], [1, 1, 3]]\n",
      "[[1, 6, 2], [1, 2, 2], [2, 5, 2], [2, 1, 2], [6, 2, 3], [4, 6, 3], [3, 5, 3], [4, 2, 3], [4, 4, 3], [5, 5, 3], [5, 1, 3], [2, 2, 3], [3, 1, 3], [1, 5, 3], [1, 3, 3], [1, 1, 3]]\n",
      "[[1, 2, 2], [2, 5, 2], [2, 1, 2], [6, 2, 3], [4, 6, 3], [3, 5, 3], [4, 2, 3], [4, 4, 3], [5, 5, 3], [5, 1, 3], [2, 2, 3], [3, 1, 3], [1, 5, 3], [1, 3, 3], [1, 1, 3]]\n",
      "[[2, 5, 2], [2, 1, 2], [6, 2, 3], [4, 6, 3], [3, 5, 3], [4, 2, 3], [4, 4, 3], [5, 5, 3], [5, 1, 3], [2, 2, 3], [3, 1, 3], [1, 5, 3], [1, 3, 3], [1, 1, 3]]\n",
      "[[2, 1, 2], [6, 2, 3], [4, 6, 3], [3, 5, 3], [4, 2, 3], [4, 4, 3], [5, 5, 3], [5, 1, 3], [2, 2, 3], [3, 1, 3], [1, 5, 3], [1, 3, 3], [1, 1, 3]]\n",
      "[[6, 2, 3], [4, 6, 3], [3, 5, 3], [4, 2, 3], [4, 4, 3], [5, 5, 3], [5, 1, 3], [2, 2, 3], [3, 1, 3], [1, 5, 3], [1, 3, 3], [1, 1, 3]]\n",
      "[[4, 6, 3], [3, 5, 3], [4, 2, 3], [4, 4, 3], [5, 5, 3], [5, 1, 3], [2, 2, 3], [3, 1, 3], [1, 5, 3], [1, 3, 3], [1, 1, 3]]\n",
      "[[3, 5, 3], [4, 2, 3], [4, 4, 3], [5, 5, 3], [5, 1, 3], [2, 2, 3], [3, 1, 3], [1, 5, 3], [1, 3, 3], [1, 1, 3]]\n",
      "[[4, 2, 3], [4, 4, 3], [5, 5, 3], [5, 1, 3], [2, 2, 3], [3, 1, 3], [1, 5, 3], [1, 3, 3], [1, 1, 3], [2, 3, 4]]\n",
      "[[4, 4, 3], [5, 5, 3], [5, 1, 3], [2, 2, 3], [3, 1, 3], [1, 5, 3], [1, 3, 3], [1, 1, 3], [2, 3, 4], [6, 3, 4]]\n",
      "[[5, 5, 3], [5, 1, 3], [2, 2, 3], [3, 1, 3], [1, 5, 3], [1, 3, 3], [1, 1, 3], [2, 3, 4], [6, 3, 4]]\n",
      "[[5, 1, 3], [2, 2, 3], [3, 1, 3], [1, 5, 3], [1, 3, 3], [1, 1, 3], [2, 3, 4], [6, 3, 4]]\n",
      "[[2, 2, 3], [3, 1, 3], [1, 5, 3], [1, 3, 3], [1, 1, 3], [2, 3, 4], [6, 3, 4]]\n",
      "[[3, 1, 3], [1, 5, 3], [1, 3, 3], [1, 1, 3], [2, 3, 4], [6, 3, 4]]\n",
      "[[1, 5, 3], [1, 3, 3], [1, 1, 3], [2, 3, 4], [6, 3, 4]]\n",
      "[[1, 3, 3], [1, 1, 3], [2, 3, 4], [6, 3, 4]]\n",
      "[[1, 1, 3], [2, 3, 4], [6, 3, 4]]\n"
     ]
    },
    {
     "data": {
      "text/plain": [
       "3"
      ]
     },
     "execution_count": 12,
     "metadata": {},
     "output_type": "execute_result"
    }
   ],
   "source": [
    "q = Solution()\n",
    "q.minStepToReachTarget([4,5],[1,1],6)"
   ]
  },
  {
   "cell_type": "code",
   "execution_count": 14,
   "metadata": {},
   "outputs": [
    {
     "data": {
      "text/plain": [
       "0"
      ]
     },
     "execution_count": 14,
     "metadata": {},
     "output_type": "execute_result"
    }
   ],
   "source": [
    "len([[]][0])"
   ]
  },
  {
   "attachments": {},
   "cell_type": "markdown",
   "metadata": {},
   "source": [
    "5.  Clone graph "
   ]
  },
  {
   "cell_type": "code",
   "execution_count": null,
   "metadata": {},
   "outputs": [],
   "source": [
    "from collections import deque\n",
    "class GraphNode:\n",
    "    def __init__(self, val=0, neighbors=[]):\n",
    "        self.val = val\n",
    "        self.neighbors = neighbors\n",
    "\n",
    "def cloneGraph(src: GraphNode) -> GraphNode:\n",
    "    # A Map to keep track of all the\n",
    "    # nodes which have already been created\n",
    "    m = {}\n",
    "    q = deque()\n",
    " \n",
    "    # Enqueue src node\n",
    "    q.append(src)\n",
    "    node = None\n",
    " \n",
    "    # Make a clone Node\n",
    "    node = GraphNode()\n",
    "    node.val = src.val\n",
    " \n",
    "    # Put the clone node into the Map\n",
    "    m[src] = node\n",
    "    while q:\n",
    "        # Get the front node from the queue\n",
    "        # and then visit all its neighbors\n",
    "        u = q.popleft()\n",
    "        v = u.neighbors\n",
    "        for neighbor in v:\n",
    "            # Check if this node has already been created\n",
    "            if neighbor not in m:\n",
    "                # If not then create a new Node and\n",
    "                # put into the HashMap\n",
    "                node = GraphNode()\n",
    "                node.val = neighbor.val\n",
    "                m[neighbor] = node\n",
    "                q.append(neighbor)\n",
    " \n",
    "            # Add these neighbors to the cloned graph node\n",
    "            m[u].neighbors.append(m[neighbor])\n",
    " \n",
    "    # Return the address of cloned src Node\n",
    "    return m[src]"
   ]
  }
 ],
 "metadata": {
  "kernelspec": {
   "display_name": "Python 3",
   "language": "python",
   "name": "python3"
  },
  "language_info": {
   "codemirror_mode": {
    "name": "ipython",
    "version": 3
   },
   "file_extension": ".py",
   "mimetype": "text/x-python",
   "name": "python",
   "nbconvert_exporter": "python",
   "pygments_lexer": "ipython3",
   "version": "3.11.4"
  },
  "orig_nbformat": 4
 },
 "nbformat": 4,
 "nbformat_minor": 2
}
