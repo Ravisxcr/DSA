{
 "cells": [
  {
   "attachments": {},
   "cell_type": "markdown",
   "metadata": {},
   "source": [
    "1. Stack with middle opertion"
   ]
  },
  {
   "cell_type": "code",
   "execution_count": null,
   "metadata": {},
   "outputs": [],
   "source": [
    "st = []\n",
    "dq = []\n",
    " \n",
    "def add(data):\n",
    "    dq.append(data)\n",
    "    if (len(dq) > len(st) + 1):\n",
    "        temp = dq[0]\n",
    "        dq.pop(0)\n",
    "        st.append(temp)\n",
    " \n",
    "def pop():\n",
    "    data = dq[len(dq) - 1]\n",
    "    dq.pop()\n",
    "    if (len(st) > len(dq)):\n",
    "        temp = st[0]\n",
    "        st.pop()\n",
    "        dq.insert(temp,0)\n",
    " \n",
    "def getMiddleElement():\n",
    "    return dq[0]\n",
    " \n",
    "def deleteMiddleElement():\n",
    "    dq.pop(0)\n",
    "    if (len(st) > len(dq)):  # new middle element\n",
    "        temp = st[0] # should come at front of deque\n",
    "        st.pop()\n",
    "        dq.insert(temp,0)"
   ]
  },
  {
   "attachments": {},
   "cell_type": "markdown",
   "metadata": {},
   "source": [
    "2. Length of the longest valid substring"
   ]
  },
  {
   "cell_type": "code",
   "execution_count": null,
   "metadata": {},
   "outputs": [],
   "source": [
    "def findMaxLen(string):\n",
    "    n = len(string)\n",
    " \n",
    "    # Create a stack and push -1\n",
    "    # as initial index to it.\n",
    "    stk = []\n",
    "    stk.append(-1)\n",
    " \n",
    "    # Initialize result\n",
    "    result = 0\n",
    " \n",
    "    # Traverse all characters of given string\n",
    "    for i in range(n):\n",
    " \n",
    "        # If opening bracket, push index of it\n",
    "        if string[i] == '(':\n",
    "            stk.append(i)\n",
    "         \n",
    "        # If closing bracket, i.e., str[i] = ')'\n",
    "        else:\n",
    " \n",
    "            # Pop the previous opening bracket's index\n",
    "            if len(stk) != 0:\n",
    "                stk.pop()\n",
    " \n",
    "            # Check if this length formed with base of\n",
    "            # current valid substring is more than max\n",
    "            # so far\n",
    "            if len(stk) != 0:\n",
    "                result = max(result,\n",
    "                            i - stk[len(stk)-1])\n",
    " \n",
    "            # If stack is empty. push current index as\n",
    "            # base for next valid substring (if any)\n",
    "            else:\n",
    "                stk.append(i)\n",
    " \n",
    "    return result"
   ]
  }
 ],
 "metadata": {
  "language_info": {
   "name": "python"
  },
  "orig_nbformat": 4
 },
 "nbformat": 4,
 "nbformat_minor": 2
}
