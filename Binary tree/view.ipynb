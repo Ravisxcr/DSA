{
 "cells": [
  {
   "cell_type": "code",
   "execution_count": 7,
   "metadata": {},
   "outputs": [],
   "source": [
    "from node import *"
   ]
  },
  {
   "attachments": {},
   "cell_type": "markdown",
   "metadata": {},
   "source": [
    "1. Left View"
   ]
  },
  {
   "cell_type": "code",
   "execution_count": 11,
   "metadata": {},
   "outputs": [],
   "source": [
    "def LeftView(root):\n",
    "    \n",
    "    # code here\n",
    "    if root is None:\n",
    "        return []\n",
    "        \n",
    "    q = [root]\n",
    "    mat = []\n",
    "    \n",
    "    while(len(q)>0):\n",
    "        for i in range(0,len(q)):\n",
    "            node = q.pop(0)\n",
    "            if i == 0:\n",
    "                mat.append(node.data)\n",
    "                \n",
    "            if node.left is not None:\n",
    "                q.append(node.left)\n",
    "            if node.right is not None:\n",
    "                q.append(node.right)\n",
    "                \n",
    "    return mat"
   ]
  },
  {
   "attachments": {},
   "cell_type": "markdown",
   "metadata": {},
   "source": [
    "2. Right view"
   ]
  },
  {
   "cell_type": "code",
   "execution_count": 12,
   "metadata": {},
   "outputs": [],
   "source": [
    "class Solution:\n",
    "    #Function to return list containing elements of right view of binary tree.\n",
    "    def rightView(self,root):\n",
    "        \n",
    "        # code here\n",
    "        # code here\n",
    "        if root is None:\n",
    "            return []\n",
    "            \n",
    "        q = [root]\n",
    "        mat = []\n",
    "        \n",
    "        while(len(q)>0):\n",
    "            n = len(q)\n",
    "            for i in range(n):\n",
    "                node = q.pop(0)\n",
    "                if i == n-1:\n",
    "                    mat.append(node.data)\n",
    "                    \n",
    "                if node.left is not None:\n",
    "                    q.append(node.left)\n",
    "                if node.right is not None:\n",
    "                    q.append(node.right)\n",
    "                    \n",
    "        return mat"
   ]
  },
  {
   "attachments": {},
   "cell_type": "markdown",
   "metadata": {},
   "source": [
    "3. Top view"
   ]
  },
  {
   "cell_type": "code",
   "execution_count": 13,
   "metadata": {},
   "outputs": [],
   "source": [
    "class Solution:\n",
    "    \n",
    "    #Function to return a list of nodes visible from the top view \n",
    "    #from left to right in Binary Tree.\n",
    "    def topView(self,root):\n",
    "        \n",
    "        # code here\n",
    "        q = [(root,0)]\n",
    "        li = {}\n",
    "        \n",
    "        while(len(q)>0):\n",
    "            node, hd = q.pop(0)\n",
    "             \n",
    "            if not li.get(hd):\n",
    "                li[hd] = node.data\n",
    "                \n",
    "            if node.left :\n",
    "                q.append((node.left, hd-1))\n",
    "            if node.right :\n",
    "                q.append((node.right, hd+1))\n",
    "        \n",
    "        arr = []        \n",
    "        for key in sorted(li):\n",
    "            arr.append(li[key])\n",
    "            \n",
    "        return arr"
   ]
  },
  {
   "attachments": {},
   "cell_type": "markdown",
   "metadata": {},
   "source": [
    "4. Bottom View"
   ]
  },
  {
   "cell_type": "code",
   "execution_count": 14,
   "metadata": {},
   "outputs": [],
   "source": [
    "class Solution:\n",
    "    def bottomView(self, root):\n",
    "        # code here\n",
    "        \n",
    "        q = [(root,0)]\n",
    "        li = {}\n",
    "        \n",
    "        while(len(q)>0):\n",
    "            node, hd = q.pop(0)\n",
    "             \n",
    "            # if not li.get(hd):\n",
    "            li[hd] = node.data\n",
    "                \n",
    "                \n",
    "            if node.left :\n",
    "                q.append((node.left, hd-1))\n",
    "            if node.right :\n",
    "                q.append((node.right, hd+1))\n",
    "        \n",
    "        arr = []        \n",
    "        for key in sorted(li):\n",
    "            arr.append(li[key])\n",
    "            \n",
    "        return arr\n"
   ]
  }
 ],
 "metadata": {
  "kernelspec": {
   "display_name": "Python 3",
   "language": "python",
   "name": "python3"
  },
  "language_info": {
   "codemirror_mode": {
    "name": "ipython",
    "version": 3
   },
   "file_extension": ".py",
   "mimetype": "text/x-python",
   "name": "python",
   "nbconvert_exporter": "python",
   "pygments_lexer": "ipython3",
   "version": "3.9.5"
  },
  "orig_nbformat": 4
 },
 "nbformat": 4,
 "nbformat_minor": 2
}
