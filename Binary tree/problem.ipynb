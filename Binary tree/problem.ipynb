{
 "cells": [
  {
   "attachments": {},
   "cell_type": "markdown",
   "metadata": {},
   "source": [
    "1. Construct Binary Tree from Preorder and Inorder Traversal"
   ]
  },
  {
   "cell_type": "code",
   "execution_count": null,
   "metadata": {},
   "outputs": [],
   "source": []
  },
  {
   "attachments": {},
   "cell_type": "markdown",
   "metadata": {},
   "source": [
    "2. Zigzag traversl"
   ]
  },
  {
   "cell_type": "code",
   "execution_count": null,
   "metadata": {},
   "outputs": [],
   "source": [
    "class Solution:\n",
    "    #Function to store the zig zag order traversal of tree in a list.\n",
    "    def zigZagTraversal(self, root):\n",
    "        # Your code here\n",
    "        \n",
    "        if root is None:\n",
    "            return None\n",
    "            \n",
    "        q = [root]\n",
    "        tr = 1\n",
    "        mat = []\n",
    "        \n",
    "        while(len(q)>0):\n",
    "            arr = []\n",
    "            for i in range(len(q)):\n",
    "                node = q.pop(0)\n",
    "                arr.append(node.data)\n",
    "                \n",
    "                if node.left is not None:\n",
    "                    q.append(node.left)\n",
    "                if node.right is not None:\n",
    "                    q.append(node.right)\n",
    "                    \n",
    "            if tr == 1:\n",
    "                mat.extend(arr)\n",
    "                tr*=-1\n",
    "            else:\n",
    "                mat.extend(arr[::-1])\n",
    "                tr*=-1\n",
    "                \n",
    "        return mat\n"
   ]
  },
  {
   "cell_type": "code",
   "execution_count": null,
   "metadata": {},
   "outputs": [],
   "source": [
    "class Solution:\n",
    "    def zigzagLevelOrder(self, root: TreeNode) -> List[List[int]]:\n",
    "        result = []\n",
    "        self.dfs(root, 0, result) # Perform modified preorder traversal\n",
    "        for i in range(1, len(result), 2): # Reverse the order of nodes at odd levels\n",
    "            result[i] = result[i][::-1]\n",
    "        return result\n",
    " \n",
    "    def dfs(self, root: TreeNode, level: int, result: List[List[int]]) -> None:\n",
    "        if not root:\n",
    "            return\n",
    "        if level >= len(result): # If current level not yet stored, create new level\n",
    "            result.append([])\n",
    "        result[level].append(root.val) # Store current node in its level\n",
    "        self.dfs(root.left, level + 1, result) # Recursively traverse left subtree\n",
    "        self.dfs(root.right, level + 1, result) # Recursively traverse right subtree"
   ]
  },
  {
   "attachments": {},
   "cell_type": "markdown",
   "metadata": {},
   "source": [
    "3. Leaf at same level"
   ]
  },
  {
   "cell_type": "code",
   "execution_count": null,
   "metadata": {},
   "outputs": [],
   "source": [
    "class Solution:\n",
    "    #Your task is to complete this function\n",
    "    #function should return True/False or 1/0\n",
    "    reflevel = 0\n",
    "    def checkHelper(self,root,level):\n",
    "        if root is None:\n",
    "            return True\n",
    "            \n",
    "        if root.left is None and root.right is None:\n",
    "            \n",
    "            if Solution.reflevel == 0:\n",
    "                Solution.reflevel = level\n",
    "                return True\n",
    "            \n",
    "            return level == Solution.reflevel\n",
    "            \n",
    "        return self.checkHelper(root.left,level+1) and self.checkHelper(root.right,level+1)\n",
    "                \n",
    "        \n",
    "        \n",
    "    def check(self, root):\n",
    "        #Code here\n",
    "        Solution.reflevel = 0\n",
    "        return self.checkHelper(root,0)"
   ]
  },
  {
   "attachments": {},
   "cell_type": "markdown",
   "metadata": {},
   "source": [
    "4. Check for Balanced Tree"
   ]
  },
  {
   "cell_type": "code",
   "execution_count": null,
   "metadata": {},
   "outputs": [],
   "source": [
    "class Solution:\n",
    "    def helper(self, root):\n",
    "        if root is None:\n",
    "            return True, 0\n",
    "            \n",
    "        left = self.helper(root.left)\n",
    "        right = self.helper(root.right)\n",
    "        \n",
    "        diff = abs(left[1]-right[1]) <= 1\n",
    "        height = max(left[1],right[1]) + 1\n",
    "        \n",
    "        return (left[0] and right[0] and diff), height\n",
    "        \n",
    "        \n",
    "    def isBalanced(self,root):\n",
    "        return self.helper(root)[0]"
   ]
  },
  {
   "attachments": {},
   "cell_type": "markdown",
   "metadata": {},
   "source": [
    "5. Transform to Sum Tree"
   ]
  },
  {
   "cell_type": "code",
   "execution_count": null,
   "metadata": {},
   "outputs": [],
   "source": [
    "class Solution:\n",
    "    def helper(self,root):\n",
    "        if root is None:\n",
    "            return 0\n",
    "            \n",
    "        old_val = root.data\n",
    "        root.data = self.helper(root.left) + self.helper(root.right)\n",
    "\n",
    "        return old_val + root.data\n",
    "        \n",
    "        \n",
    "    def toSumTree(self, root) :\n",
    "        #code here\n",
    "        self.helper(root)\n",
    "        return root"
   ]
  },
  {
   "attachments": {},
   "cell_type": "markdown",
   "metadata": {},
   "source": [
    "6. Check if Tree is Isomorphic"
   ]
  },
  {
   "cell_type": "code",
   "execution_count": 1,
   "metadata": {},
   "outputs": [],
   "source": [
    "class Solution:\n",
    "    # Return True if the given trees are isomotphic. Else return False.\n",
    "    def isIsomorphic(self, root1, root2): \n",
    "        #code here.\n",
    "        \n",
    "        if root1 is None and root2 is None:\n",
    "            return True\n",
    "            \n",
    "        if root1 is None or root2 is None:\n",
    "            return False\n",
    "            \n",
    "        if root1.data != root2.data:\n",
    "            return False\n",
    "            \n",
    "        return (self.isIsomorphic(root1.left,root2.left) and self.isIsomorphic(root1.right,root2.right)) or (self.isIsomorphic(root1.left,root2.right) and self.isIsomorphic(root1.right,root2.left))\n"
   ]
  }
 ],
 "metadata": {
  "kernelspec": {
   "display_name": "Python 3",
   "language": "python",
   "name": "python3"
  },
  "language_info": {
   "codemirror_mode": {
    "name": "ipython",
    "version": 3
   },
   "file_extension": ".py",
   "mimetype": "text/x-python",
   "name": "python",
   "nbconvert_exporter": "python",
   "pygments_lexer": "ipython3",
   "version": "3.9.5"
  },
  "orig_nbformat": 4
 },
 "nbformat": 4,
 "nbformat_minor": 2
}
