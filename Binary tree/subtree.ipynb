{
 "cells": [
  {
   "attachments": {},
   "cell_type": "markdown",
   "metadata": {},
   "source": [
    "1. Subtree of Another Tree"
   ]
  },
  {
   "cell_type": "code",
   "execution_count": 6,
   "metadata": {},
   "outputs": [],
   "source": [
    "# # Definition for a binary tree node.\n",
    "# class TreeNode:\n",
    "#     def __init__(self, val=0, left=None, right=None):\n",
    "#         self.val = val\n",
    "#         self.left = left\n",
    "#         self.right = right\n",
    "\n",
    "class Solution:\n",
    "    def isidentical(self,r1,r2):\n",
    "        if r1 is None and r2 is None:\n",
    "            return True\n",
    "        if r1 is None or r2 is None:\n",
    "            return False    \n",
    "        return (r1.val == r2.val) and self.isidentical(r1.left,r2.left) and self.isidentical(r1.right,r2.right)\n",
    "\n",
    "    def isSubtree(self, root, subRoot) -> bool:\n",
    "\n",
    "        if subRoot is None:\n",
    "            return True\n",
    "        if root is None:\n",
    "            return False\n",
    "\n",
    "        if self.isidentical(root,subRoot):\n",
    "            return True\n",
    "\n",
    "        return self.isSubtree(root.left, subRoot) or self.isSubtree(root.right, subRoot)"
   ]
  },
  {
   "attachments": {},
   "cell_type": "markdown",
   "metadata": {},
   "source": [
    "2. Invert Binary Tree"
   ]
  },
  {
   "cell_type": "code",
   "execution_count": null,
   "metadata": {},
   "outputs": [],
   "source": [
    "class Solution:\n",
    "\n",
    "    def invertTree(self, root: Optional[TreeNode]) -> Optional[TreeNode]:\n",
    "\n",
    "        if root is None:\n",
    "            return None\n",
    "        \n",
    "        root.left , root.right = root.right, root.left\n",
    "\n",
    "        self.invertTree(root.left)\n",
    "        self.invertTree(root.right)\n",
    "\n",
    "        return root"
   ]
  },
  {
   "attachments": {},
   "cell_type": "markdown",
   "metadata": {},
   "source": [
    "3. check leaf at same level"
   ]
  },
  {
   "cell_type": "code",
   "execution_count": null,
   "metadata": {},
   "outputs": [],
   "source": [
    "def checkUtil(root, level):\n",
    "     \n",
    "    # Base Case\n",
    "    if root is None:\n",
    "        return True\n",
    "     \n",
    "    # If a tree node is encountered\n",
    "    if root.left is None and root.right is None:\n",
    "         \n",
    "        # When a leaf node is found first time\n",
    "        if check.leafLevel == 0 :\n",
    "            check.leafLevel = level # Set first leaf found\n",
    "            return True\n",
    " \n",
    "        # If this is not first leaf node, compare its level\n",
    "        # with first leaf's level\n",
    "        return level == check.leafLevel\n",
    " \n",
    "    # If this is not first leaf node, compare its level\n",
    "    # with first leaf's level\n",
    "    return (checkUtil(root.left, level+1)and\n",
    "            checkUtil(root.right, level+1))\n",
    " \n",
    "def check(root):\n",
    "    level = 0\n",
    "    check.leafLevel = 0\n",
    "    return (checkUtil(root, level))"
   ]
  },
  {
   "attachments": {},
   "cell_type": "markdown",
   "metadata": {},
   "source": [
    "4. Check for Balanced Tree"
   ]
  },
  {
   "cell_type": "code",
   "execution_count": null,
   "metadata": {},
   "outputs": [],
   "source": [
    "class Solution:\n",
    "    # helper function to determine if a binary tree is\n",
    "    # balanced\n",
    "    def isBalancedfast(self, root):\n",
    "        # base case: if root is None, the tree is balanced\n",
    "        # and has height 0\n",
    "        if root is None:\n",
    "            return True, 0\n",
    "        # recursively call isBalancedfast function on left\n",
    "        # and right subtrees\n",
    "        left = self.isBalancedfast(root.left)\n",
    "        right = self.isBalancedfast(root.right)\n",
    " \n",
    "        # retrieve whether left and right subtrees are\n",
    "        # balanced\n",
    "        leftAns = left[0]\n",
    "        rightAns = right[0]\n",
    " \n",
    "        # check the difference in heights of left and right\n",
    "        # subtrees\n",
    "        diff = abs(left[1] - right[1]) <= 1\n",
    " \n",
    "        # set the height of the current node\n",
    "        height = max(left[1], right[1]) + 1\n",
    "        # if both subtrees are balanced and their heights\n",
    "        # differ by at most 1, the tree is balanced\n",
    "        if leftAns and rightAns and diff:\n",
    "            return True, height\n",
    "        # otherwise, the tree is not balanced\n",
    "        else:\n",
    "            return False, height\n",
    " \n",
    "    # Function to check whether a binary tree is balanced\n",
    "    # or not.\n",
    "    def isBalanced(self, root):\n",
    "        return self.isBalancedfast(root)[0]"
   ]
  },
  {
   "cell_type": "code",
   "execution_count": null,
   "metadata": {},
   "outputs": [],
   "source": [
    "class Solution:\n",
    "    def helper(self, root):\n",
    "        if root is None:\n",
    "            return True, 0\n",
    "            \n",
    "        left = self.helper(root.left)\n",
    "        right = self.helper(root.right)\n",
    "        \n",
    "        diff = abs(left[1]-right[1]) <= 1\n",
    "        height = max(left[1],right[1]) + 1\n",
    "        \n",
    "        return (left[0] and right[0] and diff), height\n",
    "        \n",
    "        \n",
    "    def isBalanced(self,root):\n",
    "        return self.helper(root)[0]\n",
    "        #add code here\n",
    "        "
   ]
  },
  {
   "attachments": {},
   "cell_type": "markdown",
   "metadata": {},
   "source": [
    "5. Convert to sum tree"
   ]
  },
  {
   "cell_type": "code",
   "execution_count": null,
   "metadata": {},
   "outputs": [],
   "source": [
    "class Solution:\n",
    "    def helper(self,root):\n",
    "        if root is None:\n",
    "            return 0\n",
    "            \n",
    "        old_val = root.data\n",
    "        root.data = self.helper(root.left) + self.helper(root.right)\n",
    "\n",
    "        return old_val + root.data\n",
    "        \n",
    "    def toSumTree(self, root) :\n",
    "        #code here\n",
    "        self.helper(root)\n",
    "        return root\n"
   ]
  },
  {
   "attachments": {},
   "cell_type": "markdown",
   "metadata": {},
   "source": [
    "6. Check if Tree is Isomorphic"
   ]
  },
  {
   "cell_type": "code",
   "execution_count": 1,
   "metadata": {},
   "outputs": [],
   "source": [
    "class Solution:\n",
    "    # Return True if the given trees are isomotphic. Else return False.\n",
    "    def isIsomorphic(self, root1, root2): \n",
    "        #code here.\n",
    "        \n",
    "        if root1 is None and root2 is None:\n",
    "            return True\n",
    "            \n",
    "        if root1 is None or root2 is None:\n",
    "            return False\n",
    "            \n",
    "        if root1.data != root2.data:\n",
    "            return False\n",
    "            \n",
    "        return (self.isIsomorphic(root1.left,root2.left) and self.isIsomorphic(root1.right,root2.right)) or (self.isIsomorphic(root1.left,root2.right) and self.isIsomorphic(root1.right,root2.left))"
   ]
  },
  {
   "cell_type": "markdown",
   "metadata": {},
   "source": []
  },
  {
   "cell_type": "code",
   "execution_count": null,
   "metadata": {},
   "outputs": [],
   "source": []
  }
 ],
 "metadata": {
  "kernelspec": {
   "display_name": "Python 3",
   "language": "python",
   "name": "python3"
  },
  "language_info": {
   "codemirror_mode": {
    "name": "ipython",
    "version": 3
   },
   "file_extension": ".py",
   "mimetype": "text/x-python",
   "name": "python",
   "nbconvert_exporter": "python",
   "pygments_lexer": "ipython3",
   "version": "3.9.5"
  },
  "orig_nbformat": 4
 },
 "nbformat": 4,
 "nbformat_minor": 2
}
