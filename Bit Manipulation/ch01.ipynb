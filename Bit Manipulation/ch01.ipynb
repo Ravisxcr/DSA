{
 "cells": [
  {
   "attachments": {},
   "cell_type": "markdown",
   "metadata": {},
   "source": [
    "1. Count set bits in an integer"
   ]
  },
  {
   "cell_type": "code",
   "execution_count": null,
   "metadata": {},
   "outputs": [],
   "source": [
    "def  countSetBits(n):\n",
    "    count = 0\n",
    "    while (n):\n",
    "        count += n & 1\n",
    "        n >>= 1\n",
    "    return count"
   ]
  },
  {
   "cell_type": "code",
   "execution_count": null,
   "metadata": {},
   "outputs": [],
   "source": [
    "# Brian Kernighan’s Algorithm\n",
    "# recursive function to count\n",
    "# set bits\n",
    "def countSetBits(n):\n",
    " \n",
    "    # base case\n",
    "    if (n == 0):\n",
    "        return 0\n",
    "    else:\n",
    "        return 1 + countSetBits(n & (n - 1))"
   ]
  },
  {
   "cell_type": "code",
   "execution_count": 2,
   "metadata": {},
   "outputs": [
    {
     "name": "stdout",
     "output_type": "stream",
     "text": [
      "2\n"
     ]
    }
   ],
   "source": [
    "print(bin(3).count('1'));"
   ]
  },
  {
   "attachments": {},
   "cell_type": "markdown",
   "metadata": {},
   "source": [
    "2. Swap all odd and even bits"
   ]
  },
  {
   "cell_type": "code",
   "execution_count": null,
   "metadata": {},
   "outputs": [],
   "source": [
    "def swapBits(x) :\n",
    "     \n",
    "    # Get all even bits of x\n",
    "    even_bits = x & 0xAAAAAAAA\n",
    " \n",
    "    # Get all odd bits of x\n",
    "    odd_bits = x & 0x55555555\n",
    "     \n",
    "    # Right shift even bits\n",
    "    even_bits >>= 1\n",
    "     \n",
    "    # Left shift odd bits\n",
    "    odd_bits <<= 1\n",
    " \n",
    "    # Combine even and odd bits\n",
    "    return (even_bits | odd_bits)"
   ]
  },
  {
   "attachments": {},
   "cell_type": "markdown",
   "metadata": {},
   "source": [
    "3. nth Magic Number"
   ]
  },
  {
   "cell_type": "code",
   "execution_count": 3,
   "metadata": {},
   "outputs": [],
   "source": [
    "def nthMagicNo(n):\n",
    " \n",
    "    pow = 1\n",
    "    answer = 0\n",
    " \n",
    "    # Go through every bit of n\n",
    "    while (n):\n",
    " \n",
    "        pow = pow*5\n",
    " \n",
    "        # If last bit of n is set\n",
    "        if (n & 1):\n",
    "            answer += pow\n",
    " \n",
    "        # proceed to next bit\n",
    "        n >>= 1 # or n = n/2\n",
    "     \n",
    "    return answer"
   ]
  },
  {
   "attachments": {},
   "cell_type": "markdown",
   "metadata": {},
   "source": [
    "4. Find Next Sparse Number"
   ]
  },
  {
   "cell_type": "code",
   "execution_count": null,
   "metadata": {},
   "outputs": [],
   "source": [
    "def nextSparse(x):\n",
    "   \n",
    "    bin = []\n",
    "    while (x != 0):\n",
    "        bin.append(x & 1)\n",
    "        x >>= 1\n",
    " \n",
    "    bin.append(0)\n",
    "    n = len(bin) \n",
    "    last_final = 0\n",
    "\n",
    "    for i in range(1,n - 1):\n",
    "         \n",
    "        if ((bin[i] == 1 and bin[i - 1] == 1\n",
    "            and bin[i + 1] != 1)):\n",
    "                 \n",
    "            bin[i + 1] = 1\n",
    "             \n",
    "            for j in range(i,last_final-1,-1):\n",
    "                bin[j] = 0\n",
    " \n",
    "            last_final = i + 1\n",
    " \n",
    "    ans = 0\n",
    "    for i in range(n):\n",
    "        ans += bin[i] * (1 << i)\n",
    "    return ans"
   ]
  },
  {
   "attachments": {},
   "cell_type": "markdown",
   "metadata": {},
   "source": [
    "5. Binary representation of a given number"
   ]
  },
  {
   "cell_type": "code",
   "execution_count": null,
   "metadata": {},
   "outputs": [],
   "source": [
    "def bin(n):\n",
    " \n",
    "    if (n > 1):\n",
    "        bin(n >> 1)\n",
    "    print(n & 1, end=\"\")"
   ]
  },
  {
   "cell_type": "code",
   "execution_count": null,
   "metadata": {},
   "outputs": [],
   "source": [
    "def binary(num):\n",
    "    return int(bin(num).split('0b')[1])"
   ]
  },
  {
   "attachments": {},
   "cell_type": "markdown",
   "metadata": {},
   "source": [
    "6. Rotate bits of a number"
   ]
  },
  {
   "attachments": {},
   "cell_type": "markdown",
   "metadata": {},
   "source": [
    "Bit Rotation: A rotation (or circular shift) is an operation similar to shift except that the bits that fall off at one end are put back to the other end. \\\n",
    "In left rotation, the bits that fall off at left end are put back at right end. \\\n",
    "In right rotation, the bits that fall off at right end are put back at left end."
   ]
  },
  {
   "cell_type": "code",
   "execution_count": null,
   "metadata": {},
   "outputs": [],
   "source": []
  },
  {
   "attachments": {},
   "cell_type": "markdown",
   "metadata": {},
   "source": [
    "7. Count number of bits to be flipped to convert A to B"
   ]
  },
  {
   "cell_type": "code",
   "execution_count": 4,
   "metadata": {},
   "outputs": [
    {
     "name": "stdout",
     "output_type": "stream",
     "text": [
      "4\n"
     ]
    }
   ],
   "source": [
    "if __name__ == '__main__':\n",
    "    a = 10\n",
    "    b = 20\n",
    " \n",
    "    # Function call\n",
    "    # Converting int to binary and counting number of bits\n",
    "    result = bin(a ^ b).count(\"1\")\n",
    "    print(result)"
   ]
  },
  {
   "cell_type": "code",
   "execution_count": 5,
   "metadata": {},
   "outputs": [],
   "source": [
    "def countSetBits(n):\n",
    "    count = 0\n",
    "    while n:\n",
    "        count += 1\n",
    "        n &= (n-1)\n",
    "    return count\n",
    " \n",
    "# Function that return count of\n",
    "# flipped number\n",
    " \n",
    " \n",
    "def FlippedCount(a, b):\n",
    " \n",
    "    # Return count of set bits in\n",
    "    # a XOR b\n",
    "    return countSetBits(a ^ b)"
   ]
  },
  {
   "attachments": {},
   "cell_type": "markdown",
   "metadata": {},
   "source": [
    "8. Add 1 to a given number"
   ]
  },
  {
   "cell_type": "code",
   "execution_count": null,
   "metadata": {},
   "outputs": [],
   "source": [
    "import operator \n",
    "#input\n",
    "n=6\n",
    "# adding 1 to a given number and print the output\n",
    "# one line solution\n",
    "print(operator.add(n,1))"
   ]
  },
  {
   "cell_type": "code",
   "execution_count": null,
   "metadata": {},
   "outputs": [],
   "source": [
    "def addOne(x) :\n",
    "     \n",
    "    m = 1;\n",
    "    # Flip all the set bits\n",
    "    # until we find a 0\n",
    "    while(x & m):\n",
    "        x = x ^ m\n",
    "        m <<= 1\n",
    "     \n",
    "    # flip the rightmost\n",
    "    # 0 bit\n",
    "    x = x ^ m\n",
    "    return x\n",
    " "
   ]
  },
  {
   "cell_type": "code",
   "execution_count": 1,
   "metadata": {},
   "outputs": [],
   "source": [
    "def addOne(x):\n",
    "    return (-(~x));"
   ]
  },
  {
   "attachments": {},
   "cell_type": "markdown",
   "metadata": {},
   "source": [
    "9. Sum of bit differences among all pairs"
   ]
  },
  {
   "cell_type": "code",
   "execution_count": 3,
   "metadata": {},
   "outputs": [],
   "source": [
    "def sumBitDifferences(arr, n):\n",
    " \n",
    "    ans = 0  # Initialize result\n",
    " \n",
    "    # traverse over all bits\n",
    "    for i in range(0, 32):\n",
    "     \n",
    "        # count number of elements with i'th bit set\n",
    "        count = 0\n",
    "        for j in range(0, n):\n",
    "            if ( (arr[j] & (1 << i)) ):\n",
    "                count+= 1\n",
    " \n",
    "        # Add \"count * (n - count) * 2\" to the answer\n",
    "        ans += (count * (n - count) * 2);\n",
    "     \n",
    "    return ans"
   ]
  },
  {
   "attachments": {},
   "cell_type": "markdown",
   "metadata": {},
   "source": [
    "10. Compute modulus division by a power-of-2-number"
   ]
  },
  {
   "cell_type": "code",
   "execution_count": null,
   "metadata": {},
   "outputs": [],
   "source": [
    "# d must be one of:\n",
    "# 1, 2, 4, 8, 16, 32, …\n",
    "def getModulo(n, d):\n",
    " \n",
    "    return ( n & (d-1) )"
   ]
  },
  {
   "cell_type": "markdown",
   "metadata": {},
   "source": [
    "11. Reverse string without using any temporary variable"
   ]
  },
  {
   "cell_type": "code",
   "execution_count": 7,
   "metadata": {},
   "outputs": [],
   "source": [
    "# Reverse str[begin..end]\n",
    "str = \"geeksforgeeks\";\n",
    "str = \"\".join(reversed(str))"
   ]
  },
  {
   "cell_type": "code",
   "execution_count": 6,
   "metadata": {},
   "outputs": [],
   "source": [
    "def reversingString(str, start, end):\n",
    "      \n",
    "    # Iterate loop upto start not equal to end\n",
    "    while (start < end):\n",
    "  \n",
    "        # XOR for swapping the variable\n",
    "        str = (str[:start] + chr(ord(str[start]) ^  ord(str[end])) + str[start + 1:]);\n",
    "        str = (str[:end] + chr(ord(str[start]) ^ ord(str[end])) + str[end + 1:]);\n",
    "        str = (str[:start] + chr(ord(str[start]) ^ ord(str[end])) + str[start + 1:]);\n",
    "  \n",
    "        start += 1;\n",
    "        end -= 1;\n",
    "    return str;"
   ]
  },
  {
   "attachments": {},
   "cell_type": "markdown",
   "metadata": {},
   "source": [
    "12. Check whether a given number is even or odd"
   ]
  },
  {
   "cell_type": "code",
   "execution_count": 8,
   "metadata": {},
   "outputs": [],
   "source": [
    "def isEven(n):\n",
    "     # n&1 is 1, then odd, else even\n",
    "    return (not(n & 1))"
   ]
  },
  {
   "cell_type": "code",
   "execution_count": 9,
   "metadata": {},
   "outputs": [
    {
     "name": "stdout",
     "output_type": "stream",
     "text": [
      "Number is Even: 4\n"
     ]
    }
   ],
   "source": [
    "a = 4\n",
    "if a == (a >> 1) << 1:\n",
    "    print(\"Number is Even:\", a)\n",
    "else:\n",
    "    print(\"Number is Odd:\", a)"
   ]
  },
  {
   "attachments": {},
   "cell_type": "markdown",
   "metadata": {},
   "source": [
    "13. Detect if two integers have opposite signs"
   ]
  },
  {
   "cell_type": "code",
   "execution_count": null,
   "metadata": {},
   "outputs": [],
   "source": [
    "def oppositeSigns(x, y):\n",
    "    return ((x ^ y) < 0);"
   ]
  },
  {
   "cell_type": "code",
   "execution_count": null,
   "metadata": {},
   "outputs": [],
   "source": [
    "def oppositeSigns(x, y):\n",
    "    return (y >= 0) if (x < 0) else (y < 0);"
   ]
  },
  {
   "attachments": {},
   "cell_type": "markdown",
   "metadata": {},
   "source": [
    "14. Find the element that appears once"
   ]
  },
  {
   "cell_type": "code",
   "execution_count": null,
   "metadata": {},
   "outputs": [],
   "source": []
  },
  {
   "attachments": {},
   "cell_type": "markdown",
   "metadata": {},
   "source": [
    "15. Program to find whether a given number is power of 2"
   ]
  },
  {
   "cell_type": "code",
   "execution_count": null,
   "metadata": {},
   "outputs": [],
   "source": []
  }
 ],
 "metadata": {
  "kernelspec": {
   "display_name": "Python 3",
   "language": "python",
   "name": "python3"
  },
  "language_info": {
   "codemirror_mode": {
    "name": "ipython",
    "version": 3
   },
   "file_extension": ".py",
   "mimetype": "text/x-python",
   "name": "python",
   "nbconvert_exporter": "python",
   "pygments_lexer": "ipython3",
   "version": "3.9.5"
  },
  "orig_nbformat": 4
 },
 "nbformat": 4,
 "nbformat_minor": 2
}
