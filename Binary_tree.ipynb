{
 "cells": [
  {
   "cell_type": "markdown",
   "metadata": {},
   "source": [
    "Binary tree node"
   ]
  },
  {
   "cell_type": "code",
   "execution_count": 2,
   "metadata": {},
   "outputs": [],
   "source": [
    "class BinaryNode:\n",
    "    def __init__(self,data) -> None:\n",
    "        self.data = data\n",
    "        self.left = None\n",
    "        self.right = None"
   ]
  },
  {
   "cell_type": "code",
   "execution_count": 22,
   "metadata": {},
   "outputs": [],
   "source": [
    "a = BinaryNode(1)\n",
    "b = BinaryNode(2)\n",
    "c = BinaryNode(5)\n",
    "d = BinaryNode(9)\n",
    "e = BinaryNode(45)"
   ]
  },
  {
   "cell_type": "code",
   "execution_count": 23,
   "metadata": {},
   "outputs": [],
   "source": [
    "a.left = b\n",
    "a.right = c\n",
    "b.left = e"
   ]
  },
  {
   "cell_type": "code",
   "execution_count": 24,
   "metadata": {},
   "outputs": [
    {
     "data": {
      "text/plain": [
       "5"
      ]
     },
     "execution_count": 24,
     "metadata": {},
     "output_type": "execute_result"
    }
   ],
   "source": [
    "a.right.data"
   ]
  },
  {
   "cell_type": "markdown",
   "metadata": {},
   "source": [
    "Printing Binary tree"
   ]
  },
  {
   "cell_type": "code",
   "execution_count": 11,
   "metadata": {},
   "outputs": [],
   "source": [
    "def printTree(root):\n",
    "    if root is None:\n",
    "        return\n",
    "    print(\"node data is \", root.data)\n",
    "\n",
    "    if root.left is not None:\n",
    "        print(\"Left data \", root.left.data)\n",
    "    if root.right is not None:\n",
    "        print(\"right data \", root.right.data)\n",
    "\n",
    "    printTree(root.left)\n",
    "    printTree(root.right)"
   ]
  },
  {
   "cell_type": "code",
   "execution_count": 26,
   "metadata": {},
   "outputs": [
    {
     "name": "stdout",
     "output_type": "stream",
     "text": [
      "node data is  1\n",
      "Left data  2\n",
      "right data  5\n",
      "node data is  2\n",
      "Left data  45\n",
      "node data is  45\n",
      "node data is  5\n"
     ]
    }
   ],
   "source": [
    "dat = printTree(a)"
   ]
  },
  {
   "cell_type": "markdown",
   "metadata": {},
   "source": [
    "Printing 2"
   ]
  },
  {
   "cell_type": "code",
   "execution_count": 16,
   "metadata": {},
   "outputs": [],
   "source": [
    "def printTree2(root):\n",
    "    # printing for root node\n",
    "    if root is None:\n",
    "        return\n",
    "    else:\n",
    "        print(\"\\n node data is \", root.data , end=' ')\n",
    "\n",
    "    # printing for left node\n",
    "    if root.left is not None:\n",
    "        print(\"Left data \", root.left.data, end=' ')\n",
    "    else:\n",
    "        print(\"Left data is None\", end=' ')\n",
    "\n",
    "    # printing for right node\n",
    "    if root.right is not None:\n",
    "        print(\"right data \", root.right.data, end='')\n",
    "    else:\n",
    "        print(\"right data is None \", end=' ')\n",
    "\n",
    "    # Calling for left node and right node\n",
    "    printTree(root.left)\n",
    "    printTree(root.right)"
   ]
  },
  {
   "cell_type": "code",
   "execution_count": 28,
   "metadata": {},
   "outputs": [
    {
     "name": "stdout",
     "output_type": "stream",
     "text": [
      "\n",
      " node data is  1 Left data  2 right data  5node data is  2\n",
      "Left data  45\n",
      "node data is  45\n",
      "node data is  5\n"
     ]
    }
   ],
   "source": [
    "dat = printTree2(a)"
   ]
  },
  {
   "cell_type": "markdown",
   "metadata": {},
   "source": [
    "Finding Number of Nodes"
   ]
  },
  {
   "cell_type": "code",
   "execution_count": 29,
   "metadata": {},
   "outputs": [],
   "source": [
    "def numNodes(root):\n",
    "    if root is None:\n",
    "        return 0\n",
    "    \n",
    "    left = numNodes(root.left)\n",
    "    right = numNodes(root.right)\n",
    "\n",
    "    return 1 + left + right\n"
   ]
  },
  {
   "cell_type": "code",
   "execution_count": 30,
   "metadata": {},
   "outputs": [
    {
     "name": "stdout",
     "output_type": "stream",
     "text": [
      "4\n"
     ]
    }
   ],
   "source": [
    "print(numNodes(a))"
   ]
  },
  {
   "cell_type": "markdown",
   "metadata": {},
   "source": [
    "Taking Input in nodes"
   ]
  },
  {
   "cell_type": "code",
   "execution_count": 31,
   "metadata": {},
   "outputs": [],
   "source": [
    "def InputNode():\n",
    "    data = int(input())\n",
    "    if data == -1:\n",
    "        return None\n",
    "    else:\n",
    "        root =  BinaryNode(data)\n",
    "\n",
    "    left_tree = InputNode()\n",
    "    right_tree = InputNode()\n",
    "    root.left = left_tree\n",
    "    root.right = right_tree\n",
    "\n",
    "    return root"
   ]
  },
  {
   "cell_type": "code",
   "execution_count": 32,
   "metadata": {},
   "outputs": [],
   "source": [
    "tree_1 = InputNode()"
   ]
  },
  {
   "cell_type": "code",
   "execution_count": 33,
   "metadata": {},
   "outputs": [
    {
     "name": "stdout",
     "output_type": "stream",
     "text": [
      "\n",
      " node data is  1 Left data  2 right data is None  node data is  2\n",
      "Left data  3\n",
      "node data is  3\n",
      "Left data  4\n",
      "node data is  4\n",
      "Left data  5\n",
      "node data is  5\n",
      "Left data  6\n",
      "node data is  6\n"
     ]
    }
   ],
   "source": [
    "data_1 = printTree2(tree_1)"
   ]
  },
  {
   "cell_type": "markdown",
   "metadata": {},
   "source": [
    "Couting Leaf node"
   ]
  },
  {
   "cell_type": "code",
   "execution_count": 34,
   "metadata": {},
   "outputs": [],
   "source": [
    "def leafCount(root):\n",
    "    if root is None:\n",
    "        return 0\n",
    "    if root.left is None and root.right is None:\n",
    "        return 1\n",
    "    \n",
    "    numLeft = leafCount(root.left)\n",
    "    numRight = leafCount(root.right)\n",
    "\n",
    "    return numLeft + numRight"
   ]
  },
  {
   "cell_type": "code",
   "execution_count": 35,
   "metadata": {},
   "outputs": [
    {
     "name": "stdout",
     "output_type": "stream",
     "text": [
      "1\n"
     ]
    }
   ],
   "source": [
    "print(leafCount(tree_1))"
   ]
  },
  {
   "cell_type": "markdown",
   "metadata": {},
   "source": [
    "Taking Levelwise input"
   ]
  },
  {
   "cell_type": "code",
   "execution_count": 4,
   "metadata": {},
   "outputs": [],
   "source": [
    "import queue"
   ]
  },
  {
   "cell_type": "code",
   "execution_count": 12,
   "metadata": {},
   "outputs": [],
   "source": [
    "def LevelInput():\n",
    "    q = queue.Queue()\n",
    "    print('Enter root')\n",
    "    rootData = int(input())\n",
    "    if rootData == -1:\n",
    "        return None\n",
    "    else:\n",
    "        root  = BinaryNode(rootData)\n",
    "        q.put(root)\n",
    "\n",
    "    while not(q.empty()):\n",
    "        current_node = q.get()\n",
    "        \n",
    "        print(\"Enter left child of \", current_node.data)\n",
    "        l_data = int(input())\n",
    "        if l_data != -1:\n",
    "            leftchild = BinaryNode(l_data)\n",
    "            current_node.left = leftchild\n",
    "            q.put(leftchild)\n",
    "\n",
    "        print(\"Enter right child of \", current_node.data)\n",
    "        r_data = int(input())\n",
    "        if r_data != -1:\n",
    "            rightchild = BinaryNode(l_data)\n",
    "            current_node.left = rightchild\n",
    "            q.put(rightchild)\n",
    "\n",
    "    return root"
   ]
  },
  {
   "cell_type": "code",
   "execution_count": 13,
   "metadata": {},
   "outputs": [
    {
     "name": "stdout",
     "output_type": "stream",
     "text": [
      "Enter root\n",
      "Enter left child of  1\n",
      "Enter right child of  1\n",
      "Enter left child of  2\n",
      "Enter right child of  2\n",
      "Enter left child of  2\n",
      "Enter right child of  2\n"
     ]
    }
   ],
   "source": [
    "tree_2 = LevelInput()"
   ]
  },
  {
   "cell_type": "code",
   "execution_count": 17,
   "metadata": {},
   "outputs": [
    {
     "name": "stdout",
     "output_type": "stream",
     "text": [
      "\n",
      " node data is  1 Left data  2 right data is None  node data is  2\n"
     ]
    }
   ],
   "source": [
    "c = printTree2(tree_2)"
   ]
  },
  {
   "cell_type": "markdown",
   "metadata": {},
   "source": [
    "# BST"
   ]
  },
  {
   "cell_type": "code",
   "execution_count": 1,
   "metadata": {},
   "outputs": [],
   "source": [
    "def searchBST(root, x):\n",
    "    if root is None:\n",
    "        return None\n",
    "    elif root.data == x:\n",
    "        return True\n",
    "    elif root.data > x:\n",
    "        return searchBST(root.left)\n",
    "    elif root.data < x:\n",
    "        return searchBST(root.right)"
   ]
  },
  {
   "cell_type": "code",
   "execution_count": null,
   "metadata": {},
   "outputs": [],
   "source": []
  }
 ],
 "metadata": {
  "kernelspec": {
   "display_name": "Python 3.9.5 64-bit",
   "language": "python",
   "name": "python3"
  },
  "language_info": {
   "codemirror_mode": {
    "name": "ipython",
    "version": 3
   },
   "file_extension": ".py",
   "mimetype": "text/x-python",
   "name": "python",
   "nbconvert_exporter": "python",
   "pygments_lexer": "ipython3",
   "version": "3.9.5"
  },
  "orig_nbformat": 4,
  "vscode": {
   "interpreter": {
    "hash": "81794d4967e6c3204c66dcd87b604927b115b27c00565d3d43f05ba2f3a2cb0d"
   }
  }
 },
 "nbformat": 4,
 "nbformat_minor": 2
}
